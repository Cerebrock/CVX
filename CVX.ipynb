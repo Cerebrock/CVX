{
 "cells": [
  {
   "cell_type": "markdown",
   "metadata": {},
   "source": [
    "## A new algorithm for solving Mixed Integer Non Linear Problems for inventory control"
   ]
  },
  {
   "cell_type": "markdown",
   "metadata": {},
   "source": [
    "#### Abstract\n",
    "\n",
    "A new iterative algorithm is developed to solve a MINLP program..."
   ]
  },
  {
   "cell_type": "markdown",
   "metadata": {},
   "source": [
    "#### Introduction"
   ]
  },
  {
   "cell_type": "markdown",
   "metadata": {},
   "source": [
    "The optimization problem is an abstraction of the process of choosing the best possible vector $\\in R^n$ from a set. In this way it encompasses many ways of decision making, and so the reasons for its ubiquitous relevance becomes clear. The general formulation is: "
   ]
  },
  {
   "cell_type": "markdown",
   "metadata": {},
   "source": [
    "$$\\begin{aligned}\n",
    "& \\underset{x}{\\text{minimize}}\n",
    "& & f_0(x) \\\\\n",
    "& \\text{subject to}\n",
    "& & f_i(x) \\leq b_i, \\; i = 1, \\ldots, m.\n",
    "\\end{aligned}$$"
   ]
  },
  {
   "cell_type": "markdown",
   "metadata": {},
   "source": [
    "If all $f_i(x)$ fullfil linearity conditions, $f_i(αx + βy) = αf_i(x) + βf_i(y)$, then the problem corresponds to a _linear program_. A more general class of problems consist of all that comply $f_i(αx + βy) ≤ αf_i(x) + βf_i(y)$ given $α, β \\in [0,1], α + β = 1$, corresponding to the domain of _convex problems_. Finally, with $x \\in \\mathbb{Z}$, a _Mixed Integer Convex Non-Linear Program_ can be defined."
   ]
  },
  {
   "cell_type": "markdown",
   "metadata": {},
   "source": [
    "#### Problem formulation\n",
    "\n",
    "A stock of a $p \\in \\mathbb{N^i}$ products has to be allocated to $s \\in \\mathbb{N^j}$ outlets while satisfying arbitrary equality and inequality restrictions. These intend to modulate sales in different areas, allow compliance to comercial agreements, and respond to diverse business needs. Both $p$ and $s$ are classified in multiple hierarchical levels, e.g. : _channel, area, group, delivery route..._ for $s$; _family, product, flavour..._ for $p$. One possiblility for the formulation is to organize this levels into a tensor $Q \\in \\mathbb{N}^{channel \\; \\times \\; area \\; \\times \\;...,\\; family \\; \\times \\;product...}$, or tree spanning all levels and categories, but that conveys an extra memory consumption as it assigns space that is redundant, e.g. allocating a quantity of each product for each outlet when not all products are sold at all outlets. Therefore a vector is constructed as $\\textbf{q} = (s_0p_0, ..., s_ip_j)$, $\\textbf{q} \\in \\mathbb{R}^{i \\times j}$ where $p_is_j$ corresponds to the quantity of product $i$ in outlet $j$, and excluding the elements $i,j$ that are not applicable for the period distribution. Continuous relaxation of the $q$ vector is allowed for faster computation. The optimization problem is formulated as:"
   ]
  },
  {
   "cell_type": "markdown",
   "metadata": {},
   "source": [
    "$$\\begin{aligned}\n",
    "\\underset{q}{\\text{minimize }}\n",
    "& | ( \\mathbf{q} - \\mathbf{q_{0}} ) \\oslash  \\mathbf{q_{0}} |^{2}, \n",
    "| ( \\mathbf{q} - \\mathbf{q_{0}} ) \\oslash  \\mathbf{q_{0}} |^{\\infty}\n",
    "\\\\ \\text{subject to: } \n",
    "& \\textbf{R}\\textbf{q} = \\textbf{b} \\\\ \n",
    "& \\textbf{M}\\textbf{q} \\leq \\textbf{d}\n",
    "\\end{aligned}$$"
   ]
  },
  {
   "cell_type": "markdown",
   "metadata": {},
   "source": [
    "Where each row $r$ in $R \\in \\{0,1\\}^{i \\times j}$ represents a restriction and is defined as $r_i = 1$ if the corresponding element in $\\textbf{q}$ is in the subset to which the restriction applies. The symbols $\\odot$ and $\\oslash$ corresponds to element-wise (or Hadamard) product and division, respectively."
   ]
  },
  {
   "cell_type": "markdown",
   "metadata": {},
   "source": [
    "#### Solution 1"
   ]
  },
  {
   "cell_type": "markdown",
   "metadata": {},
   "source": [
    "$$\\text{Init } \\textbf{q*} := q_0 $$\n",
    "$$\\text{Repeat until convergence:}$$\n",
    "\n",
    "$$\\textbf{e} = \\textbf{b} \\oslash \\textbf{R} \\cdot \\textbf{q}$$\n",
    "$$\\textbf{R*} = diag( \\textbf{e}) \\cdot \\textbf{R}$$\n",
    "$$\\Delta_{j} = \\frac{1}{i}\\sum_{\\{i: R*_{ij} \\neq 0\\}} \\textbf{R*}_{ij}$$\n",
    "$$\\textbf{q*} = \\textbf{q} \\odot \\Delta$$"
   ]
  },
  {
   "cell_type": "markdown",
   "metadata": {},
   "source": [
    "#### Solution 2"
   ]
  },
  {
   "cell_type": "markdown",
   "metadata": {},
   "source": [
    "$$\\textbf{W} = diag(\\textbf{q}_0)$$\n",
    "$$\\textbf{s} =  \\textit{Least squares}[\\textbf{R}\\textbf{q} = \\textbf{b}]$$\n",
    "$$\\textbf{q*} = \\textbf{q}_0 - \\textbf{s}$$\n",
    "$$\\textbf{o} = \\textit{Orth}[(R \\cdot W)^T]$$\n",
    "$$\\textbf{v} = \\textbf{W} \\cdot o$$\n",
    "$$\\textbf{x} = \\textbf{o} - \\textbf{v} \\cdot (v^T \\cdot \\textbf{W}^{-2} \\cdot \\textbf{o})$$\n",
    "$$\\textbf{q} = x + s$$"
   ]
  },
  {
   "cell_type": "markdown",
   "metadata": {},
   "source": [
    "For least squares, LSQR algorithm is used (c), and the orthogonal basis $o$ is computed using singular value descomposition."
   ]
  },
  {
   "cell_type": "markdown",
   "metadata": {},
   "source": [
    "sparse matrix, lsqr, orth"
   ]
  },
  {
   "cell_type": "markdown",
   "metadata": {},
   "source": [
    "#### Results"
   ]
  },
  {
   "cell_type": "markdown",
   "metadata": {},
   "source": [
    "![](resultsNRAS.png) ![](resultsPROJ.png)"
   ]
  },
  {
   "cell_type": "code",
   "execution_count": null,
   "metadata": {},
   "outputs": [],
   "source": []
  },
  {
   "cell_type": "markdown",
   "metadata": {},
   "source": [
    "#### References \n",
    "\n",
    "Belotti, P., Kirches, C., Leyffer, S., Linderoth, J., Luedtke, J., & Mahajan, A. (2013). Mixed-integer nonlinear optimization. Acta Numerica, 22, 1-131.\n",
    "\n",
    "Boyd, S., & Vandenberghe, L. (2004). Convex optimization. Cambridge university press.\n",
    "\n",
    "Paige, C. C., & Saunders, M. A. (1982). LSQR: An algorithm for sparse linear equations and sparse least squares. ACM Transactions on Mathematical Software (TOMS), 8(1), 43-71."
   ]
  }
 ],
 "metadata": {
  "kernelspec": {
   "display_name": "Python 3",
   "language": "python",
   "name": "python3"
  },
  "language_info": {
   "codemirror_mode": {
    "name": "ipython",
    "version": 3
   },
   "file_extension": ".py",
   "mimetype": "text/x-python",
   "name": "python",
   "nbconvert_exporter": "python",
   "pygments_lexer": "ipython3",
   "version": "3.7.1"
  }
 },
 "nbformat": 4,
 "nbformat_minor": 2
}
