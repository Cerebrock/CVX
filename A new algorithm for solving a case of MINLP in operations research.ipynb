{
 "cells": [
  {
   "cell_type": "markdown",
   "metadata": {},
   "source": [
    "#### Abstract\n",
    "\n",
    "A new iterative algorithm is developed to solve a MINLP program for operations research. The problem consists on allocating a stock of products to the possible outlets minimizing variation with respect to the previous period, and while satisfying arbitrary constrains defined on  categories that group the variables. "
   ]
  },
  {
   "cell_type": "markdown",
   "metadata": {},
   "source": [
    "#### Introduction"
   ]
  },
  {
   "cell_type": "markdown",
   "metadata": {},
   "source": [
    "The optimization problem is an abstraction of the process of choosing the best possible vector $\\in R^n$ from a set. In this way it encompasses many ways of decision making, and so the reasons for its ubiquitous relevance becomes clear. The general formulation is: "
   ]
  },
  {
   "cell_type": "markdown",
   "metadata": {},
   "source": [
    "$$\\begin{aligned}\n",
    "& \\underset{x}{\\text{minimize}}\n",
    "& & f_0(x) \\\\\n",
    "& \\text{subject to}\n",
    "& & f_i(x) \\leq b_i, \\; i = 1, \\ldots, m.\n",
    "\\end{aligned}$$"
   ]
  },
  {
   "cell_type": "markdown",
   "metadata": {},
   "source": [
    "If all $f_i(x)$ fulfil linearity conditions, $f_i(αx + βy) = αf_i(x) + βf_i(y)$, then the problem corresponds to a _linear program_. A more general class of problems consist of all that comply $f_i(αx + βy) ≤ αf_i(x) + βf_i(y)$ given $α, β \\in [0,1], α + β = 1$, corresponding to the domain of _convex problems_. Finally, with $x \\in \\mathbb{Z}$, a _Mixed Integer Convex Non-Linear Program_ can be defined."
   ]
  },
  {
   "cell_type": "markdown",
   "metadata": {},
   "source": [
    "#### Problem formulation\n",
    "\n",
    "A stock of a $p \\in \\mathbb{N^i}$ products has to be allocated to $s \\in \\mathbb{N^j}$ outlets while satisfying arbitrary equality and inequality restrictions. These intend to modulate sales in different areas, allow compliance to commercial agreements, and respond to diverse business needs. Both $p$ and $s$ are classified in multiple hierarchical levels, e.g. : _channel, area, group, delivery route..._ for $s$; _family, product, flavor..._ for $p$. One possibility for the formulation is to organize this levels into a tensor $Q \\in \\mathbb{N}^{channel \\; \\times \\; area \\; \\times \\;...,\\; family \\; \\times \\;product...}$, or tree spanning all levels and categories, but that conveys an extra memory consumption as it assigns space that is redundant, e.g. allocating a quantity of each product for each outlet when not all products are sold at all outlets. Therefore a vector is constructed as $\\textbf{q} = (s_0p_0, ..., s_ip_j)$, $\\textbf{q} \\in \\mathbb{R}^{i \\times j}$ where $p_is_j$ corresponds to the quantity of product $i$ in outlet $j$, and excluding the elements $i,j$ that are not applicable for the period distribution. Continuous relaxation of the $q$ vector is allowed for faster computation. The optimization problem is formulated as:"
   ]
  },
  {
   "cell_type": "markdown",
   "metadata": {},
   "source": [
    "$$\\begin{aligned}\n",
    "\\underset{q}{\\text{minimize }}\n",
    "& | ( \\mathbf{q} - \\mathbf{q_{0}} ) \\oslash  \\mathbf{q_{0}} |^{2}, \n",
    "| ( \\mathbf{q} - \\mathbf{q_{0}} ) \\oslash  \\mathbf{q_{0}} |^{\\infty}\n",
    "\\\\ \\text{subject to: } \n",
    "& \\textbf{R}\\textbf{q} = \\textbf{b} \\\\ \n",
    "& \\textbf{M}\\textbf{q} \\leq \\textbf{d}\n",
    "\\end{aligned}$$"
   ]
  },
  {
   "cell_type": "markdown",
   "metadata": {},
   "source": [
    "Where each row $r$ in $R \\in \\{0,1\\}^{i \\times j}$ represents a restriction and is defined as $r_i = 1$ if the corresponding element in $\\textbf{q}$ is in the subset to which the restriction applies. The symbols $\\odot$ and $\\oslash$ corresponds to element-wise (or Hadamard) product and division, respectively."
   ]
  },
  {
   "cell_type": "markdown",
   "metadata": {},
   "source": [
    "#### Solution 1"
   ]
  },
  {
   "cell_type": "markdown",
   "metadata": {},
   "source": [
    "$$\\text{Init } \\textbf{q*} := q_0 $$\n",
    "$$\\text{Repeat until convergence:}$$\n",
    "\n",
    "$$\\textbf{e} = \\textbf{b} \\oslash \\textbf{R} \\cdot \\textbf{q}$$\n",
    "$$\\textbf{R*} = diag( \\textbf{e}) \\cdot \\textbf{R}$$\n",
    "$$\\Delta_{j} = \\frac{1}{i}\\sum_{\\{i: R*_{ij} \\neq 0\\}} \\textbf{R*}_{ij}$$\n",
    "$$\\textbf{q*} = \\textbf{q} \\odot \\Delta$$"
   ]
  },
  {
   "cell_type": "markdown",
   "metadata": {},
   "source": [
    "#### Solution 2"
   ]
  },
  {
   "cell_type": "markdown",
   "metadata": {},
   "source": [
    "$$\\textbf{W} = diag(\\textbf{q}_0)$$\n",
    "$$\\textbf{s} =  \\textit{Least squares}[\\textbf{R}\\textbf{q} = \\textbf{b}]$$\n",
    "$$\\textbf{q*} = \\textbf{q}_0 - \\textbf{s}$$\n",
    "$$\\textbf{o} = \\textit{Orth}[(R \\cdot W)^T]$$\n",
    "$$\\textbf{v} = \\textbf{W} \\cdot o$$\n",
    "$$\\textbf{x} = \\textbf{o} - \\textbf{v} \\cdot (v^T \\cdot \\textbf{W}^{-2} \\cdot \\textbf{o})$$\n",
    "$$\\textbf{q} = x + s$$"
   ]
  },
  {
   "cell_type": "markdown",
   "metadata": {},
   "source": [
    "For least squares, LSQR algorithm is used (c), and the orthogonal basis $o$ is computed using singular value decomposition."
   ]
  },
  {
   "cell_type": "markdown",
   "metadata": {},
   "source": [
    "sparse matrix, lsqr, orth"
   ]
  },
  {
   "cell_type": "code",
   "execution_count": 2,
   "metadata": {},
   "outputs": [
    {
     "data": {
      "text/plain": [
       "'ciaciaciaciaciaciaciaciaciaciaciaciaciaciaciaciaciaciaciaciaciaciaciaciaciaciaciaciaciaciaciaciaciaciaciaciaciaciaciaciaciaciaciaciaciaciaciaciaciaciaciaciaciaciaciaciaciaciaciaciaciaciaciaciaciaciaciaciaciaciaciaciaciaciaciaciaciaciaciaciaciaciaciaciaciaciaciaciaciaciaciaciaciaciaciaciaciaciaciacia'"
      ]
     },
     "execution_count": 2,
     "metadata": {},
     "output_type": "execute_result"
    }
   ],
   "source": [
    "\"cia\"*100"
   ]
  },
  {
   "cell_type": "code",
   "execution_count": 555,
   "metadata": {},
   "outputs": [],
   "source": [
    "# Ejemplo: tenemos 5 clientes con 2 productos cada uno\n",
    "# Las restricciones serán: el cliente 1 no puede tener mas del 30% del total \n",
    "# el presupuestp del producto 1 es 100\n",
    "# el presupuesto del producto 2 es 200\n",
    "\n",
    "# Tenemos entonces un vector binario de largo q = clientes * productos\n",
    "# Cada fila representa: (cl1) p1 p2 (cl2) p1 p2 (cl3) p11 pl2 (cl4) p1 p2 (cl5) p1 p2"
   ]
  },
  {
   "cell_type": "code",
   "execution_count": 562,
   "metadata": {},
   "outputs": [],
   "source": [
    "# Restricciones\n",
    "R = sparse.csc_matrix([\n",
    "              [1, 1, 0, 0, 0, 0, 0, 0, 0, 0], \n",
    "              [1, 0, 1, 0, 1, 0, 1, 0, 1, 0],\n",
    "              [0, 1, 0, 1, 0, 1, 0, 1, 0, 1]]).astype('int8')\n",
    "#objetivos\n",
    "b = np.array([0.3*300, 100, 200])\n",
    "#var\n",
    "q = np.array([1e-10]*10)\n",
    "\n",
    "# Ahora definimos una distribucion prior: \n",
    "# En el último mes, lo vendido fue\n",
    "q0 = np.random.randint(1, 100, size=10).astype(float)\n",
    "idx_ineqs = np.array([0])"
   ]
  },
  {
   "cell_type": "code",
   "execution_count": null,
   "metadata": {},
   "outputs": [],
   "source": [
    "q_ras = solve_nras(R,q0,b,idx_ineqs, precision=1)"
   ]
  },
  {
   "cell_type": "code",
   "execution_count": 564,
   "metadata": {},
   "outputs": [
    {
     "data": {
      "text/plain": [
       "({'Norma q-q0': 1.213331018983049,\n",
       "  'Norma Aq-b': 1.0154486093979889,\n",
       "  'Max': -0.15031073347143697,\n",
       "  'Min': -0.5427621323911461},\n",
       " False)"
      ]
     },
     "execution_count": 564,
     "metadata": {},
     "output_type": "execute_result"
    }
   ],
   "source": [
    "check_sol(R, q_ras, b, q0, show=False)"
   ]
  },
  {
   "cell_type": "code",
   "execution_count": 565,
   "metadata": {},
   "outputs": [
    {
     "name": "stdout",
     "output_type": "stream",
     "text": [
      "Thresh 1.00 Coef 5.00 {'Norma q-q0': 0.0, 'Norma Aq-b': 120.17, 'Max': 0.0, 'Min': 0.0} \n",
      "Thresh 0.92 Coef 4.60 {'Norma q-q0': 1.07, 'Norma Aq-b': 0.0, 'Max': -0.01, 'Min': -0.82} \n",
      "Thresh 0.84 Coef 4.22 {'Norma q-q0': 1.07, 'Norma Aq-b': 0.0, 'Max': -0.01, 'Min': -0.82} \n"
     ]
    },
    {
     "data": {
      "text/plain": [
       "{'Norma q-q0': 1.0706258976505163,\n",
       " 'Norma Aq-b': 4.0194366942304644e-14,\n",
       " 'Max': -0.01180695025980114,\n",
       " 'Min': -0.8151881287936131}"
      ]
     },
     "execution_count": 565,
     "metadata": {},
     "output_type": "execute_result"
    }
   ],
   "source": [
    "q_ultra, res = solve_ultra(R, q0, b, idx_ineqs)\n",
    "res"
   ]
  },
  {
   "cell_type": "markdown",
   "metadata": {},
   "source": [
    "#### Results"
   ]
  },
  {
   "cell_type": "markdown",
   "metadata": {},
   "source": [
    "![](resultsNRAS.png) ![](resultsPROJ.png)"
   ]
  },
  {
   "cell_type": "markdown",
   "metadata": {},
   "source": [
    "#### References \n",
    "\n",
    "Belotti, P., Kirches, C., Leyffer, S., Linderoth, J., Luedtke, J., & Mahajan, A. (2013). Mixed-integer nonlinear optimization. Acta Numerica, 22, 1-131.\n",
    "\n",
    "Boyd, S., & Vandenberghe, L. (2004). Convex optimization. Cambridge university press.\n",
    "\n",
    "Paige, C. C., & Saunders, M. A. (1982). LSQR: An algorithm for sparse linear equations and sparse least squares. ACM Transactions on Mathematical Software (TOMS), 8(1), 43-71."
   ]
  }
 ],
 "metadata": {
  "kernelspec": {
   "display_name": "Python 3",
   "language": "python",
   "name": "python3"
  },
  "language_info": {
   "codemirror_mode": {
    "name": "ipython",
    "version": 3
   },
   "file_extension": ".py",
   "mimetype": "text/x-python",
   "name": "python",
   "nbconvert_exporter": "python",
   "pygments_lexer": "ipython3",
   "version": "3.7.4"
  }
 },
 "nbformat": 4,
 "nbformat_minor": 4
}
