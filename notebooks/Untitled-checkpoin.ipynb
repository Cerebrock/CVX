{
 "cells": [
  {
   "cell_type": "code",
   "execution_count": 81,
   "metadata": {},
   "outputs": [
    {
     "name": "stdout",
     "output_type": "stream",
     "text": [
      "C:\\Users\\mgrinberg\\Desktop\\disc c\\SDPC\\SDPC\\SDPC\n"
     ]
    }
   ],
   "source": [
    "%cd C:\\Users\\mgrinberg\\Desktop\\disc c\\SDPC\\SDPC\\SDPC"
   ]
  },
  {
   "cell_type": "code",
   "execution_count": 82,
   "metadata": {},
   "outputs": [],
   "source": [
    "from variables import *\n",
    "from SDPC_utils import *\n",
    "from SDPC import *\n",
    "\n",
    "import ctypes\n",
    "import pickle as pkl\n",
    "import pandas as dd\n",
    "import numpy as np\n",
    "import cvxpy as cp\n",
    "from collections import OrderedDict\n",
    "from time import time, strftime\n",
    "from os import getcwd\n",
    "import re\n",
    "import warnings\n",
    "from sklearn.preprocessing import LabelEncoder\n",
    "from collections import defaultdict\n",
    "from scipy.sparse import csr_matrix, save_npz, load_npz, diags, vstack\n",
    "from scipy.sparse.linalg import lsqr\n",
    "from scipy.linalg import orth"
   ]
  },
  {
   "cell_type": "code",
   "execution_count": 62,
   "metadata": {},
   "outputs": [
    {
     "name": "stdout",
     "output_type": "stream",
     "text": [
      "2 '.lst's encontrados.\n",
      "Wall time: 4min 10s\n"
     ]
    }
   ],
   "source": [
    "%%time\n",
    "cargar_data(query=None) #404"
   ]
  },
  {
   "cell_type": "code",
   "execution_count": 63,
   "metadata": {},
   "outputs": [
    {
     "name": "stdout",
     "output_type": "stream",
     "text": [
      "Errores en restricciones con indices [  6   7   8  38  56  57  66  74  82  95 106 107 119 133 140 142 160 168\n",
      " 169 174 178]\n",
      "Falta la distribución de productos para Cliente, Sucursal [[217332, 1], [271213, 3], [328728, 1], [329415, 2], [329415, 28], [329415, 29], [329415, 33], [329415, 35], [329415, 60], [329415, 233], [329415, 435], [329415, 436], [329415, 439], [329415, 441], [329415, 444], [329415, 448], [329415, 449], [329415, 450], [329415, 452], [329415, 456], [329415, 460], [329415, 468], [329415, 583], [329415, 725], [353242, 11], [353242, 16], [353242, 23], [353934, 1], [367629, 1], [437410, 1], [459067, 1], [467000, 2], [467407, 1], [474454, 1], [481468, 1], [487455, 1]]\n",
      "Wall time: 45.6 s\n"
     ]
    }
   ],
   "source": [
    "%%time\n",
    "Q0 = actualizar_base() #100"
   ]
  },
  {
   "cell_type": "code",
   "execution_count": 31,
   "metadata": {},
   "outputs": [
    {
     "name": "stdout",
     "output_type": "stream",
     "text": [
      "Volcando resultado en Análisis.\n",
      "Errores en restricciones con indices [  4   5   6   7   8  38  56  57  66  74  82  95 106 107 119 133 140 142\n",
      " 160 168 169 174 178]\n",
      "Ingresando resultados en Restricciones.\n",
      "Errores en restricciones con indices [  4   5   6   7   8  38  56  57  66  74  82  95 106 107 119 133 140 142\n",
      " 160 168 169 174 178]\n"
     ]
    }
   ],
   "source": [
    "validar()"
   ]
  },
  {
   "cell_type": "code",
   "execution_count": 177,
   "metadata": {},
   "outputs": [
    {
     "name": "stdout",
     "output_type": "stream",
     "text": [
      "Preparando optimización.\n",
      "Errores en restricciones con indices [  4   5   6   7   8  38  56  57  66  74  82  95 106 107 119 133 140 142\n",
      " 160 168 169 174 178]\n",
      "Volcando resultado en Análisis.\n",
      "Errores en restricciones con indices [  4   5   6   7   8  38  56  57  66  74  82  95 106 107 119 133 140 142\n",
      " 160 168 169 174 178]\n",
      "Ingresando resultados en Restricciones.\n",
      "Errores en restricciones con indices [  4   5   6   7   8  38  56  57  66  74  82  95 106 107 119 133 140 142\n",
      " 160 168 169 174 178]\n",
      "Wall time: 2min 27s\n"
     ]
    },
    {
     "data": {
      "image/png": "[encoded data removed]",
      "text/plain": [
       "<Figure size 432x288 with 1 Axes>"
      ]
     },
     "metadata": {},
     "output_type": "display_data"
    }
   ],
   "source": [
    "%%time\n",
    "solve(polish=False)"
   ]
  },
  {
   "cell_type": "code",
   "execution_count": 83,
   "metadata": {},
   "outputs": [
    {
     "name": "stdout",
     "output_type": "stream",
     "text": [
      "Preparando optimización.\n",
      "Errores en restricciones con indices [  6   7   8  38  56  57  66  74  82  95 106 107 119 133 140 142 160 168\n",
      " 169 174 178]\n"
     ]
    }
   ],
   "source": [
    "t0 = time()\n",
    "print('Preparando optimización.')\n",
    "A, q0, b, idx_ineqs = prepare_vars()"
   ]
  },
  {
   "cell_type": "code",
   "execution_count": 84,
   "metadata": {},
   "outputs": [
    {
     "name": "stdout",
     "output_type": "stream",
     "text": [
      "930524.4326261576\t689843.023124469\t526719.484163987\t408370.8124375023\t319442.6783945635\t251269.5778243401\t198362.71558966246\t156978.8035244193\t124438.37976277615\t98760.389729434\t78447.53935842113\t62350.87754847383\t49579.42641189306\t39437.15607134621\t31377.504832934228\t24969.699627824615\t19873.32951369328\t15818.876203316844\t12592.65155135207\t10025.0571097114\t7981.383118088191\t6354.569134884124\t5059.491289794319\t4028.444649468821\t3207.5647515619503\t2553.989709913461\t2033.6074785581513\t1619.2664068912025\t1289.3529727220443\t1026.6609366559446\t817.4918659877732\t650.9395353422477\t518.3204826919302\t412.72082939696423\t328.63554278266884\t261.68129492490954\t208.36787145262244\t165.91615776721406\t132.1132674507467\t105.19714715369504\t83.76474678466427\t66.6988536953381\t53.10986833148216\t42.28943097050995\t33.673501678869826\t26.812939924769623\t21.35012770729189\t17.000287700742454\t13.536673758003174\t10.778724719162874\t8.582676873446257\t"
     ]
    }
   ],
   "source": [
    "sol = solve_nras(A,q0.copy(),b,idx_ineqs, verbose=True)"
   ]
  },
  {
   "cell_type": "code",
   "execution_count": 86,
   "metadata": {},
   "outputs": [],
   "source": [
    "Q = pd.read_csv(TMP_PATH+'Q1.csv', sep=';')"
   ]
  },
  {
   "cell_type": "code",
   "execution_count": null,
   "metadata": {},
   "outputs": [],
   "source": [
    "Q[neto_col+'_1'] = sol\n",
    "Q['Dif'] = (1 - (Q[neto_col+'_1'] / Q[neto_col+'_w']))"
   ]
  },
  {
   "cell_type": "code",
   "execution_count": null,
   "metadata": {},
   "outputs": [
    {
     "data": {
      "text/plain": [
       "({'Norma q-q0': 87.23,\n",
       "  'Max': 0.15,\n",
       "  'Min': -0.32,\n",
       "  'Media': -0.036,\n",
       "  'Mayores a 1.00': 0.0,\n",
       "  'Mayores a 0.30': 5.0,\n",
       "  'Negativos': 0.0,\n",
       "  'Norma Aq-b': 8.58},\n",
       " <Figure size 640x480 with 1 Axes>)"
      ]
     },
     "execution_count": 88,
     "metadata": {},
     "output_type": "execute_result"
    }
   ],
   "source": [
    "data"
   ]
  },
  {
   "cell_type": "code",
   "execution_count": null,
   "metadata": {},
   "outputs": [
    {
     "name": "stdout",
     "output_type": "stream",
     "text": [
      "Thresh 1.00 Coef 5.00 {'Norma q-q0': 87.23, 'Max': 0.16, 'Min': -0.33, 'Media': -0.04, 'Mayores a 1.00': 0, 'Mayores a 0.30': 5, 'Negativos': 0, 'Norma Aq-b': 8.58} \n",
      "Thresh 0.92 Coef 4.60 {'Norma q-q0': 87.23, 'Max': 0.16, 'Min': -0.33, 'Media': -0.04, 'Mayores a 1.00': 0, 'Mayores a 0.30': 5, 'Negativos': 0, 'Norma Aq-b': 8.58} \n"
     ]
    }
   ],
   "source": [
    "sol, data = solve_ultra(A, sol, b, idx_ineqs, max_tries=2)"
   ]
  },
  {
   "cell_type": "code",
   "execution_count": null,
   "metadata": {},
   "outputs": [],
   "source": [
    "Q.to_csv(TMP_PATH + 'Q1.csv', sep=';', index=False)\n",
    "validar(Q=Q)\n",
    "#ctypes.windll.user32.MessageBoxW(0, f\"Distribución calculada. {time() - t0:.0f} segundos.\",  \"Terminado\", 1)"
   ]
  },
  {
   "cell_type": "code",
   "execution_count": null,
   "metadata": {},
   "outputs": [],
   "source": []
  },
  {
   "cell_type": "code",
   "execution_count": null,
   "metadata": {},
   "outputs": [],
   "source": [
    "th1, th2 = 1, 0.3"
   ]
  },
  {
   "cell_type": "code",
   "execution_count": null,
   "metadata": {},
   "outputs": [],
   "source": [
    "%%time\n",
    "sol1, data = solve_ultra(A, q0.copy(), b, idx_ineqs, th_max=th1, th_min=th2, max_iters=10, min_coef=2, max_coef=10, max_tries=5, margin=10, pt=1, pc=2)"
   ]
  },
  {
   "cell_type": "code",
   "execution_count": null,
   "metadata": {},
   "outputs": [],
   "source": [
    "%%time\n",
    "sol2 = solve_nras(A,q0.copy(),b,idx_ineqs)"
   ]
  },
  {
   "cell_type": "code",
   "execution_count": null,
   "metadata": {},
   "outputs": [],
   "source": [
    "data = check_sol(A, sol, b, ylim=11)"
   ]
  },
  {
   "cell_type": "code",
   "execution_count": null,
   "metadata": {},
   "outputs": [],
   "source": [
    "%%time\n",
    "sol3, data = solve_ultra(A, sol2.copy(), b, idx_ineqs, th_max=th1, th_min=th2, max_iters=5, min_coef=1.5, max_coef=20, max_tries=1, margin=10, pt=2 , pc=2)"
   ]
  },
  {
   "cell_type": "code",
   "execution_count": null,
   "metadata": {},
   "outputs": [],
   "source": [
    "data = check_sol(A, sol3, b, th1=th1, th2=th2)"
   ]
  },
  {
   "cell_type": "code",
   "execution_count": null,
   "metadata": {},
   "outputs": [],
   "source": [
    "Q[neto_col + '_1'] = sol2\n",
    "Q['Dif'] = (1 - (Q[neto_col+'_1'] / Q[neto_col+'_w']))\n",
    "Q.to_csv(TMP_PATH + 'Q1.csv', sep = ';', index=False)\n",
    "validar()"
   ]
  },
  {
   "cell_type": "code",
   "execution_count": null,
   "metadata": {},
   "outputs": [],
   "source": []
  },
  {
   "cell_type": "code",
   "execution_count": null,
   "metadata": {},
   "outputs": [],
   "source": [
    "params = dict(th_max = [2, 0.5, 0.2],\n",
    "         th_min = [0.05, 0.1, 0.2, 0.4],\n",
    "         max_iters = [5, 10],\n",
    "          min_coef = [1.05, 1.2, 2],\n",
    "          max_coef = [1000, 100, 10],\n",
    "          max_tries = [2, 4],\n",
    "          pt = [1,2,4],\n",
    "          pc = [1,2,4],\n",
    "          shuffle= [True, False],\n",
    "             )"
   ]
  },
  {
   "cell_type": "code",
   "execution_count": null,
   "metadata": {},
   "outputs": [],
   "source": [
    "data = []\n",
    "for i in range(1, 20):\n",
    "    params_ = {}\n",
    "    for k in params:\n",
    "        if type(params[k]) == list:\n",
    "            params_[k] = np.random.choice(params[k])\n",
    "        else:\n",
    "            params_[k] = params[k]\n",
    "    sol, data = solve_ultra(A, q0.copy(), b, idx_ineqs, **params_)\n",
    "    data_ = check_sol(A, sol.copy(), b, th1=0.8, th2=0.2)\n",
    "    data.append((data_, params_))"
   ]
  },
  {
   "cell_type": "markdown",
   "metadata": {},
   "source": [
    "$$argmin_{q} | ( \\mathbf{q} - \\mathbf{q_{0}} ) \\oslash  \\mathbf{q_{0}} |^{2} \\;,\\; | ( \\mathbf{q} - \\mathbf{q_{0}} ) \\oslash  \\mathbf{q_{0}} |^{\\infty}\n",
    "\\\\subject\\:to:  {Rq = b \\;, \\\\ Mq \\leq d}$$"
   ]
  },
  {
   "cell_type": "code",
   "execution_count": null,
   "metadata": {},
   "outputs": [],
   "source": []
  },
  {
   "cell_type": "code",
   "execution_count": null,
   "metadata": {},
   "outputs": [],
   "source": []
  },
  {
   "cell_type": "markdown",
   "metadata": {},
   "source": [
    "$$argmin_{q}  \\lambda| ( \\mathbf{q} - \\mathbf{q_{0}} ) \\oslash  \\mathbf{q_{0}} |^{2} + \\lambda| ( \\mathbf{q} - \\mathbf{q_{0}} ) \\oslash  \\mathbf{q_{0}} |^{\\infty}\n",
    "\\\\subject\\:to: \\quad {Rq = b \\;, \\\\ Mq \\leq d}$$\n"
   ]
  },
  {
   "cell_type": "raw",
   "metadata": {},
   "source": [
    "# Agregar constrains q > 0\n",
    "A = vstack([A, diags(np.ones(A.shape[1]))]).tocsr()\n",
    "b = np.hstack([b, np.zeros(A.shape[0] - b.shape[0])])"
   ]
  },
  {
   "cell_type": "code",
   "execution_count": null,
   "metadata": {},
   "outputs": [],
   "source": []
  },
  {
   "cell_type": "raw",
   "metadata": {},
   "source": [
    "%%time\n",
    "u,s,vh = sparse.linalg.svds((A @ W).T)\n",
    "M2, N2 = A.shape\n",
    "eps = np.finfo(float).eps\n",
    "tol = max(M2,N2) * np.amax(s) * eps\n",
    "num = np.sum(s > tol, dtype=int)\n",
    "ort = u[:,:num]"
   ]
  },
  {
   "cell_type": "code",
   "execution_count": null,
   "metadata": {},
   "outputs": [],
   "source": []
  },
  {
   "cell_type": "code",
   "execution_count": null,
   "metadata": {},
   "outputs": [],
   "source": []
  },
  {
   "cell_type": "raw",
   "metadata": {},
   "source": []
  },
  {
   "cell_type": "code",
   "execution_count": null,
   "metadata": {},
   "outputs": [],
   "source": [
    "def f():\n",
    "    return np.linalg.norm(b - A @ q)"
   ]
  },
  {
   "cell_type": "code",
   "execution_count": null,
   "metadata": {},
   "outputs": [],
   "source": [
    "scipy.optimize.fmin_slsqp()"
   ]
  },
  {
   "cell_type": "code",
   "execution_count": null,
   "metadata": {},
   "outputs": [],
   "source": []
  },
  {
   "cell_type": "code",
   "execution_count": null,
   "metadata": {},
   "outputs": [],
   "source": [
    "loc_dir = df.groupby(['Localidad']).first()['Direcci¢n']"
   ]
  },
  {
   "cell_type": "code",
   "execution_count": null,
   "metadata": {},
   "outputs": [],
   "source": [
    "import requests as rq\n",
    "import json"
   ]
  },
  {
   "cell_type": "code",
   "execution_count": null,
   "metadata": {},
   "outputs": [],
   "source": [
    "def geodecode(local):\n",
    "    url = 'https://maps.googleapis.com/maps/api/geocode/json?address='\n",
    "    headers = {'User-Agent': 'Mozilla/5.0 (Linux; Android 6.0; Nexus 5 Build/MRA58N) AppleWebKit/537.36 (KHTML, like Gecko) Chrome/68.0.3440.106 Mobile Safari/537.36'}\n",
    "    q = local.replace(' ', '+')\n",
    "    print(url+q)\n",
    "    c = rq.get(url+q, headers = headers).content\n",
    "    data = json.loads(c)\n",
    "    x, y = data['results'][0]['geometry']['location'].items()\n",
    "    return (x[1], y[1]) if 'lat' in x else (y[1], x[1])"
   ]
  },
  {
   "cell_type": "code",
   "execution_count": null,
   "metadata": {},
   "outputs": [],
   "source": []
  },
  {
   "cell_type": "code",
   "execution_count": null,
   "metadata": {},
   "outputs": [],
   "source": []
  },
  {
   "cell_type": "raw",
   "metadata": {},
   "source": [
    "# parametros coef, thresh, iters\n",
    "# chequear cruzado tablas\n",
    "# % relativo\n",
    "# docs, instalacion\n",
    "\n",
    "#ajuste\n",
    "#mapa\n",
    "\n",
    "#caso cliente 217332.0, vendia solo 1 pr que dejo de estar en presupuesto\n",
    "#si pones 2 filas para producto, falla\n",
    "#zona o circ?\n",
    "\n",
    "# Normalizacion por prod, total o flia?\n",
    "# producto 1670 en historico vendio 10 y ahora tiene presup 17600\n",
    "# #http://maps.googleapis.com/maps/api/geocode/json?address=\n",
    "# restriccion = 0? sacar, como con productos"
   ]
  },
  {
   "cell_type": "code",
   "execution_count": null,
   "metadata": {},
   "outputs": [],
   "source": []
  },
  {
   "cell_type": "code",
   "execution_count": null,
   "metadata": {},
   "outputs": [],
   "source": [
    "verbose = True\n",
    "precision = 10\n",
    "max_tries = 5\n",
    "periodo = '201909'"
   ]
  },
  {
   "cell_type": "code",
   "execution_count": null,
   "metadata": {},
   "outputs": [],
   "source": []
  },
  {
   "cell_type": "code",
   "execution_count": 2,
   "metadata": {},
   "outputs": [],
   "source": [
    "import re"
   ]
  },
  {
   "cell_type": "raw",
   "metadata": {},
   "source": [
    "print(re.sub(\"''\", \"'\", s))"
   ]
  },
  {
   "cell_type": "code",
   "execution_count": 30,
   "metadata": {},
   "outputs": [],
   "source": [
    "import pyodbc \n",
    "import pandas as pd\n",
    "import numpy as np\n",
    "from scipy.sparse import csr_matrix"
   ]
  },
  {
   "cell_type": "code",
   "execution_count": 17,
   "metadata": {},
   "outputs": [],
   "source": [
    "conn = pyodbc.connect('Driver={SQL Server Native Client 11.0};'\n",
    "\t\t\t\t\t'Server=10.21.200.100;'\n",
    "\t\t\t\t\t'Database=DPC;'\n",
    "\t\t\t\t\t'Trusted_Connection=no;'\n",
    "\t\t\t\t\t'UID=dpcdesa;'\n",
    "\t\t\t\t\t'PWD=Mhsa201905;'\n",
    "\t\t\t\t\t'PORT=1433;'\n",
    "\t\t\t\t\t\t)"
   ]
  },
  {
   "cell_type": "code",
   "execution_count": 18,
   "metadata": {},
   "outputs": [],
   "source": []
  },
  {
   "cell_type": "code",
   "execution_count": 108,
   "metadata": {},
   "outputs": [],
   "source": [
    "restr = pd.read_sql('SELECT * from RestriccionesView WHERE Periodo = '+str(periodo), conn)#.fillna(np.nan)\n",
    "PRESUP = pd.read_sql('SELECT * from PresupuestosView WHERE Periodo = '+str(periodo), conn)#.fillna(np.nan)\n",
    "restr = restr.append(PRESUP)\n",
    "PRESUP = PRESUP.set_index('Prod')['Cantidad']"
   ]
  },
  {
   "cell_type": "code",
   "execution_count": 95,
   "metadata": {},
   "outputs": [],
   "source": [
    "Q = f\"\"\"SELECT R.*, MC.Canal, MC.Zona, MC.CMHSA, MC.GrupoEconomico FROM ResultadoWarmStart R\n",
    "\tINNER JOIN MaestroClientes MC\n",
    "\tON R.Cliente = MC.Cliente AND R.Suc = MC.Sucursal AND R.Periodo = {periodo} AND MC.Periodo = {periodo}\"\"\"\n"
   ]
  },
  {
   "cell_type": "code",
   "execution_count": 96,
   "metadata": {},
   "outputs": [],
   "source": [
    "Q = pd.read_sql(Q, conn)"
   ]
  },
  {
   "cell_type": "code",
   "execution_count": 97,
   "metadata": {},
   "outputs": [
    {
     "data": {
      "text/plain": [
       "array([ nan, 394., 395., 414., 385., 389., 402., 410., 406., 383., 397.,\n",
       "       409., 408., 391., 384., 387., 411., 388., 403., 401., 393., 407.,\n",
       "       404., 396., 392., 405., 400., 413., 390., 412., 398., 386., 399.])"
      ]
     },
     "execution_count": 97,
     "metadata": {},
     "output_type": "execute_result"
    }
   ],
   "source": [
    "Q['GrupoEconomico'].unique()"
   ]
  },
  {
   "cell_type": "code",
   "execution_count": 98,
   "metadata": {},
   "outputs": [
    {
     "data": {
      "text/plain": [
       "array([201909], dtype=int64)"
      ]
     },
     "execution_count": 98,
     "metadata": {},
     "output_type": "execute_result"
    }
   ],
   "source": [
    "restr['Periodo'].unique()"
   ]
  },
  {
   "cell_type": "code",
   "execution_count": 104,
   "metadata": {},
   "outputs": [
    {
     "data": {
      "text/html": [
       "<div>\n",
       "<style scoped>\n",
       "    .dataframe tbody tr th:only-of-type {\n",
       "        vertical-align: middle;\n",
       "    }\n",
       "\n",
       "    .dataframe tbody tr th {\n",
       "        vertical-align: top;\n",
       "    }\n",
       "\n",
       "    .dataframe thead th {\n",
       "        text-align: right;\n",
       "    }\n",
       "</style>\n",
       "<table border=\"1\" class=\"dataframe\">\n",
       "  <thead>\n",
       "    <tr style=\"text-align: right;\">\n",
       "      <th></th>\n",
       "      <th>CMHSA</th>\n",
       "      <th>Canal</th>\n",
       "      <th>Cantidad</th>\n",
       "      <th>Cliente</th>\n",
       "      <th>Flia</th>\n",
       "      <th>GrupoEconomico</th>\n",
       "      <th>Periodo</th>\n",
       "      <th>PorcentajeRelativo</th>\n",
       "      <th>PorcentajeTotal</th>\n",
       "      <th>Prod</th>\n",
       "      <th>Simb</th>\n",
       "      <th>Suc</th>\n",
       "      <th>Zona</th>\n",
       "    </tr>\n",
       "  </thead>\n",
       "  <tbody>\n",
       "    <tr>\n",
       "      <td>131</td>\n",
       "      <td>NaN</td>\n",
       "      <td>NaN</td>\n",
       "      <td>0</td>\n",
       "      <td>NaN</td>\n",
       "      <td>NaN</td>\n",
       "      <td>NaN</td>\n",
       "      <td>201909</td>\n",
       "      <td>NaN</td>\n",
       "      <td>NaN</td>\n",
       "      <td>3150</td>\n",
       "      <td>NaN</td>\n",
       "      <td>NaN</td>\n",
       "      <td>NaN</td>\n",
       "    </tr>\n",
       "  </tbody>\n",
       "</table>\n",
       "</div>"
      ],
      "text/plain": [
       "    CMHSA  Canal Cantidad Cliente Flia GrupoEconomico  Periodo  \\\n",
       "131   NaN    NaN        0     NaN  NaN            NaN   201909   \n",
       "\n",
       "    PorcentajeRelativo  PorcentajeTotal  Prod Simb  Suc Zona  \n",
       "131                NaN              NaN  3150  NaN  NaN  NaN  "
      ]
     },
     "execution_count": 104,
     "metadata": {},
     "output_type": "execute_result"
    }
   ],
   "source": [
    "restr[restr['Prod'] == Q[Q['WarmStart'] == 0]['Prod'].unique()[0]]"
   ]
  },
  {
   "cell_type": "code",
   "execution_count": 131,
   "metadata": {},
   "outputs": [
    {
     "data": {
      "text/plain": [
       "Prod\n",
       "3150    0.0\n",
       "Name: WarmStart, dtype: float64"
      ]
     },
     "execution_count": 131,
     "metadata": {},
     "output_type": "execute_result"
    }
   ],
   "source": [
    "tot = Q.groupby('Prod')['WarmStart'].sum()\n",
    "tot[tot < 100]"
   ]
  },
  {
   "cell_type": "code",
   "execution_count": 132,
   "metadata": {},
   "outputs": [],
   "source": [
    "#Q = Q[Q['WarmStart'] != 0]"
   ]
  },
  {
   "cell_type": "code",
   "execution_count": 111,
   "metadata": {},
   "outputs": [
    {
     "name": "stdout",
     "output_type": "stream",
     "text": [
      "0 0 1 2 3 4 5 6 7 8 9 10 11 12 13 14 15 16 17 18 19 20 21 22 23 24 25 26 27 28 29 30 31 32 33 34 35 36 37 38 39 40 41 42 43 44 45 46 47 48 49 50 51 52 53 54 55 56 57 58 59 60 61 62 63 64 65 66 67 68 69 70 71 72 73 74 75 76 77 78 79 80 81 82 83 84 85 86 87 88 89 90 91 92 93 94 95 96 97 98 99 100 101 102 103 104 105 106 107 108 109 110 111 112 113 114 115 116 117 118 119 120 121 122 123 124 125 126 127 128 129 130 131 132 133 134 135 136 137 138 139 140 141 142 143 144 145 "
     ]
    }
   ],
   "source": [
    "Q.columns = [c.replace('_', '') for c in Q.columns]\n",
    "\n",
    "q = Q['WarmStart'].values\n",
    "pr_fl = Q.groupby('Prod')['Flia'].first()\n",
    "\n",
    "A = []\n",
    "b = []\n",
    "\n",
    "for i, row in restr.iterrows():\n",
    "\n",
    "\tprint(i, end=' ')\n",
    "\n",
    "\tcols = row[['Zona', 'CMHSA', 'Canal', 'GrupoEconomico', 'Cliente', 'Suc', 'Flia', 'Prod']].dropna()\n",
    "\tmask = np.logical_and.reduce([(Q[c] == v) for c,v in cols.items()])\n",
    "\tA.append(mask)\n",
    "\n",
    "\trow = row.dropna()\n",
    "\n",
    "\tif 'Cantidad' in row.index:\n",
    "\t\tif (('Flia' in row.index) | ('Prod' in row.index)):\n",
    "\t\t\tb.append(row['Cantidad'])\n",
    "\t\telse:\n",
    "\t\t\tb.append(PRESUP.sum())\n",
    "\telif 'PorcentajeRelativo' in row.index:\n",
    "\t\tuni = (row['PorcentajeRelativo']/100) * (Q['WarmStart'].values @ mask)\n",
    "\t\tb.append(uni)\n",
    "\telif 'PorcentajeTotal' in row.index:\n",
    "\t\tif ('Flia' in row.index):\n",
    "\t\t\tuni = (row['PorcentajeTotal']/100) * PRESUP.loc[pr_fl[pr_fl == row['Flia']].index.values].sum()\n",
    "\t\telif 'Prod' in row.index:\n",
    "\t\t\tuni = (row['PorcentajeTotal']/100) * PRESUP[pr_fl[pr_fl.index == row['Prod']].index.values].sum()\n",
    "\t\telse:\n",
    "\t\t\tuni = (row['PorcentajeTotal']/100) * PRESUP.sum()\n",
    "\t\tb.append(uni)\n",
    "\telse:\n",
    "\t\traise Exception(\"Error en restriccion.\")\n",
    "    \n",
    "    print('Restricciones terminadas.')"
   ]
  },
  {
   "cell_type": "code",
   "execution_count": 100,
   "metadata": {},
   "outputs": [
    {
     "data": {
      "text/html": [
       "<div>\n",
       "<style scoped>\n",
       "    .dataframe tbody tr th:only-of-type {\n",
       "        vertical-align: middle;\n",
       "    }\n",
       "\n",
       "    .dataframe tbody tr th {\n",
       "        vertical-align: top;\n",
       "    }\n",
       "\n",
       "    .dataframe thead th {\n",
       "        text-align: right;\n",
       "    }\n",
       "</style>\n",
       "<table border=\"1\" class=\"dataframe\">\n",
       "  <thead>\n",
       "    <tr style=\"text-align: right;\">\n",
       "      <th></th>\n",
       "      <th>Periodo</th>\n",
       "      <th>Cliente</th>\n",
       "      <th>Suc</th>\n",
       "      <th>Prod</th>\n",
       "      <th>Flia</th>\n",
       "      <th>VtaNeta</th>\n",
       "      <th>WarmStart</th>\n",
       "      <th>Z</th>\n",
       "      <th>Canal</th>\n",
       "      <th>Zona</th>\n",
       "      <th>CMHSA</th>\n",
       "      <th>GrupoEconomico</th>\n",
       "    </tr>\n",
       "  </thead>\n",
       "  <tbody>\n",
       "    <tr>\n",
       "      <td>0</td>\n",
       "      <td>201909</td>\n",
       "      <td>470836</td>\n",
       "      <td>1</td>\n",
       "      <td>3181</td>\n",
       "      <td>13</td>\n",
       "      <td>3.18</td>\n",
       "      <td>2.588064</td>\n",
       "      <td>None</td>\n",
       "      <td>310</td>\n",
       "      <td>2378</td>\n",
       "      <td>165</td>\n",
       "      <td>NaN</td>\n",
       "    </tr>\n",
       "    <tr>\n",
       "      <td>1</td>\n",
       "      <td>201909</td>\n",
       "      <td>358369</td>\n",
       "      <td>1</td>\n",
       "      <td>3210</td>\n",
       "      <td>1</td>\n",
       "      <td>4.00</td>\n",
       "      <td>3.463760</td>\n",
       "      <td>None</td>\n",
       "      <td>311</td>\n",
       "      <td>2409</td>\n",
       "      <td>0</td>\n",
       "      <td>NaN</td>\n",
       "    </tr>\n",
       "    <tr>\n",
       "      <td>2</td>\n",
       "      <td>201909</td>\n",
       "      <td>482716</td>\n",
       "      <td>1</td>\n",
       "      <td>1663</td>\n",
       "      <td>13</td>\n",
       "      <td>0.40</td>\n",
       "      <td>0.282606</td>\n",
       "      <td>None</td>\n",
       "      <td>311</td>\n",
       "      <td>2387</td>\n",
       "      <td>0</td>\n",
       "      <td>NaN</td>\n",
       "    </tr>\n",
       "    <tr>\n",
       "      <td>3</td>\n",
       "      <td>201909</td>\n",
       "      <td>480163</td>\n",
       "      <td>1</td>\n",
       "      <td>1711</td>\n",
       "      <td>1</td>\n",
       "      <td>4.50</td>\n",
       "      <td>2.973855</td>\n",
       "      <td>None</td>\n",
       "      <td>310</td>\n",
       "      <td>2378</td>\n",
       "      <td>74</td>\n",
       "      <td>NaN</td>\n",
       "    </tr>\n",
       "    <tr>\n",
       "      <td>4</td>\n",
       "      <td>201909</td>\n",
       "      <td>398071</td>\n",
       "      <td>20</td>\n",
       "      <td>3621</td>\n",
       "      <td>1</td>\n",
       "      <td>180.00</td>\n",
       "      <td>128.428245</td>\n",
       "      <td>None</td>\n",
       "      <td>311</td>\n",
       "      <td>2391</td>\n",
       "      <td>0</td>\n",
       "      <td>NaN</td>\n",
       "    </tr>\n",
       "  </tbody>\n",
       "</table>\n",
       "</div>"
      ],
      "text/plain": [
       "   Periodo  Cliente  Suc  Prod  Flia  VtaNeta   WarmStart     Z  Canal  Zona  \\\n",
       "0   201909   470836    1  3181    13     3.18    2.588064  None    310  2378   \n",
       "1   201909   358369    1  3210     1     4.00    3.463760  None    311  2409   \n",
       "2   201909   482716    1  1663    13     0.40    0.282606  None    311  2387   \n",
       "3   201909   480163    1  1711     1     4.50    2.973855  None    310  2378   \n",
       "4   201909   398071   20  3621     1   180.00  128.428245  None    311  2391   \n",
       "\n",
       "   CMHSA  GrupoEconomico  \n",
       "0    165             NaN  \n",
       "1      0             NaN  \n",
       "2      0             NaN  \n",
       "3     74             NaN  \n",
       "4      0             NaN  "
      ]
     },
     "execution_count": 100,
     "metadata": {},
     "output_type": "execute_result"
    }
   ],
   "source": [
    "Q.head()"
   ]
  },
  {
   "cell_type": "code",
   "execution_count": 121,
   "metadata": {},
   "outputs": [
    {
     "data": {
      "text/plain": [
       "Prod\n",
       "3150    0.0\n",
       "Name: WarmStart, dtype: float64"
      ]
     },
     "execution_count": 121,
     "metadata": {},
     "output_type": "execute_result"
    }
   ],
   "source": [
    "tot = Q.groupby('Prod')['WarmStart'].sum()\n",
    "tot[tot < 100]"
   ]
  },
  {
   "cell_type": "code",
   "execution_count": 121,
   "metadata": {},
   "outputs": [
    {
     "data": {
      "text/plain": [
       "Prod\n",
       "3150    0.0\n",
       "Name: WarmStart, dtype: float64"
      ]
     },
     "execution_count": 121,
     "metadata": {},
     "output_type": "execute_result"
    }
   ],
   "source": [
    "tot = Q.groupby('Prod')['WarmStart'].sum()\n",
    "tot[tot < 100]"
   ]
  },
  {
   "cell_type": "code",
   "execution_count": 122,
   "metadata": {},
   "outputs": [
    {
     "name": "stdout",
     "output_type": "stream",
     "text": [
      "Idx de restricciones con 0 variables []\n",
      "Idx de objetivos = 0 [132]\n",
      "Idx donde q = 0 [   1035    5249    5834 ... 1609745 1612647 1613398]\n"
     ]
    }
   ],
   "source": [
    "idx_ineqs = restr[restr.loc[:,'Simb'].astype(float) == 1].index.values.astype('int32')\n",
    "#del restr\n",
    "#del PRESUP\n",
    "A = csr_matrix(np.vstack(A).astype('bool'))\n",
    "b = np.array(b).astype('int64')\n",
    "\n",
    "print('Idx de restricciones con 0 variables', np.where(A.sum(axis=1) == 0)[0])\n",
    "print('Idx de objetivos = 0', np.where(b == 0)[0])\n",
    "print('Idx donde q = 0', np.where(q == 0)[0])"
   ]
  },
  {
   "cell_type": "code",
   "execution_count": 127,
   "metadata": {},
   "outputs": [
    {
     "data": {
      "text/plain": [
       "(1774,)"
      ]
     },
     "execution_count": 127,
     "metadata": {},
     "output_type": "execute_result"
    }
   ],
   "source": [
    "np.where(q == 0)[0].shape"
   ]
  },
  {
   "cell_type": "code",
   "execution_count": null,
   "metadata": {},
   "outputs": [],
   "source": [
    "c = 0\n",
    "d_ = np.inf\n",
    "while True:\n",
    "\tp = (b / (A @ q))\n",
    "\tidx_ineqs_ok = np.where(p[idx_ineqs] > 1 + 1e-10)\n",
    "\tp[idx_ineqs_ok] = 1\n",
    "\td = np.linalg.norm((b - (A @ q))[[idx for idx in range(A.shape[0]) if idx not in idx_ineqs_ok]])\n",
    "\tif verbose: print(d, end='\t')\n",
    "\tif d >= d_:\n",
    "\t\tc += 1\n",
    "\td_ = d\n",
    "\tif (c == max_tries) | (d_ < precision):\n",
    "\t\tbreak\n",
    "\tA_= A.multiply(p[:, np.newaxis])\n",
    "\tP = np.squeeze(np.array(np.true_divide(A_.sum(0), (A_!=0).sum(0))))\n",
    "\tq = q * P\n",
    "\n",
    "Q.loc[:, 'Z'] = q\n",
    "Q = Q[['Periodo', 'Cliente', 'Suc', 'Prod', 'Flia', 'VtaNeta', 'WarmStart', 'Z']]\n",
    "print(p)"
   ]
  },
  {
   "cell_type": "code",
   "execution_count": null,
   "metadata": {},
   "outputs": [],
   "source": [
    "if PRESUP[~PRESUP.index.isin(tabla_pr[p_col])].shape[0] > 0: \n",
    "    raise Exception('Falta información en la tabla para los siguientes productos', PRESUP[~PRESUP.index.isin(tabla_pr[p_col])].values)\n",
    "if not Q0[Q0.isnull().any(axis=1)].shape[0] == 0: \n",
    "    print(\"Falta la distribución de productos para Cliente, Sucursal\", Q0[Q0.isnull().any(axis=1)][[cl_col, s_col]].astype(int).values.tolist())\n",
    "    Q0 = Q0.dropna(axis=0)\n",
    "if not Q0[cl_col].isin(m[cl_col]).all(): raise Exception(\"Se encontraron sin distribución de productos los clientes, sucursales:\", Q0[Q0.isnull().any(axis=1)][cl_col].astype(int).values.tolist())\n",
    "if not Q0[p_col].isin(PRESUP.index).all(): raise Exception( \"Error. Productos fuera de presupuesto.\", Q0[~Q0[p_col].isin(PRESUP.index)].astype(int).values.tolist())\n",
    "\n",
    "assert Q0[Q0.isnull().any(axis=1)].shape[0] == 0\n"
   ]
  }
 ],
 "metadata": {
  "kernelspec": {
   "display_name": "Python 3",
   "language": "python",
   "name": "python3"
  },
  "language_info": {
   "codemirror_mode": {
    "name": "ipython",
    "version": 3
   },
   "file_extension": ".py",
   "mimetype": "text/x-python",
   "name": "python",
   "nbconvert_exporter": "python",
   "pygments_lexer": "ipython3",
   "version": "3.7.3"
  }
 },
 "nbformat": 4,
 "nbformat_minor": 4
}
