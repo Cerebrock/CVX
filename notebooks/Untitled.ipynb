{
 "cells": [
  {
   "cell_type": "code",
   "execution_count": 1,
   "metadata": {},
   "outputs": [],
   "source": [
    "import numpy as np\n",
    "from scipy import sparse\n",
    "import scipy.linalg as linalg"
   ]
  },
  {
   "cell_type": "code",
   "execution_count": 32,
   "metadata": {},
   "outputs": [],
   "source": [
    "R = np.array([[1,0,1], [1,0,0], [1,1,0]])\n",
    "b = np.array([0,0,0])\n",
    "q = np.array([50, 60, 10]).astype(float)"
   ]
  },
  {
   "cell_type": "code",
   "execution_count": 33,
   "metadata": {},
   "outputs": [],
   "source": [
    "sol, res, rank, s = linalg.lstsq(R, b)"
   ]
  },
  {
   "cell_type": "code",
   "execution_count": 34,
   "metadata": {},
   "outputs": [],
   "source": [
    "o = q - sol"
   ]
  },
  {
   "cell_type": "code",
   "execution_count": 35,
   "metadata": {},
   "outputs": [],
   "source": [
    "R_null = linalg.null_space(R)"
   ]
  },
  {
   "cell_type": "code",
   "execution_count": 36,
   "metadata": {},
   "outputs": [],
   "source": [
    "p =  R_null @ (R_null.T @ o) "
   ]
  },
  {
   "cell_type": "code",
   "execution_count": 37,
   "metadata": {},
   "outputs": [],
   "source": [
    "A = sparse.csc_matrix([\n",
    "              [1, 1, 0, 0, 0, 0, 0, 0, 0, 0], \n",
    "              [1, 0, 1, 0, 1, 0, 1, 0, 1, 0],\n",
    "              [0, 1, 0, 1, 0, 1, 0, 1, 0, 1]]).astype('int8')\n",
    "\n",
    "x = np.zeros(10)\n",
    "b = np.array([0.3*300, 100, 200])\n",
    "\n",
    "# Ahora definimos una distribucion prior: \n",
    "# En el último mes, lo vendido fue\n",
    "q = np.array([50, 60, 10, 20, 40, 20, 4, 7, 12, 40]).astype(float)"
   ]
  },
  {
   "cell_type": "code",
   "execution_count": 38,
   "metadata": {},
   "outputs": [
    {
     "data": {
      "text/plain": [
       "array([0., 0., 0.])"
      ]
     },
     "execution_count": 38,
     "metadata": {},
     "output_type": "execute_result"
    }
   ],
   "source": [
    "sol + p"
   ]
  },
  {
   "cell_type": "code",
   "execution_count": 39,
   "metadata": {},
   "outputs": [
    {
     "data": {
      "text/plain": [
       "array([[ 0.,  1.,  0.],\n",
       "       [ 0., -1.,  1.],\n",
       "       [ 1., -1., -0.]])"
      ]
     },
     "execution_count": 39,
     "metadata": {},
     "output_type": "execute_result"
    }
   ],
   "source": [
    "np.linalg.inv(R)"
   ]
  },
  {
   "cell_type": "code",
   "execution_count": 70,
   "metadata": {},
   "outputs": [],
   "source": [
    "#A @ q"
   ]
  },
  {
   "cell_type": "code",
   "execution_count": 71,
   "metadata": {},
   "outputs": [],
   "source": [
    "# Ejemplo: tenemos 5 clientes con 2 productos cada uno\n",
    "# Las restricciones serán: el cliente 1 no puede tener mas del 30% del total \n",
    "# el presupuestp del producto 1 es 100\n",
    "# el presupuesto del producto 2 es 200\n",
    "\n",
    "# Tenemos entonces un vector binario de largo q = clientes * productos\n",
    "# Cada fila representa: (cl1) p1 p2 (cl2) p1 p2 (cl3) p11 pl2 (cl4) p1 p2 (cl5) p1 p2"
   ]
  },
  {
   "cell_type": "code",
   "execution_count": 72,
   "metadata": {},
   "outputs": [],
   "source": [
    "q_ = q.copy()"
   ]
  },
  {
   "cell_type": "code",
   "execution_count": 74,
   "metadata": {},
   "outputs": [
    {
     "data": {
      "text/plain": [
       "(array([110., 116., 147.]), array([ 20.,  16., -53.]))"
      ]
     },
     "execution_count": 74,
     "metadata": {},
     "output_type": "execute_result"
    }
   ],
   "source": [
    "# resultado anterior, diferencia\n",
    "A @ q_, A @ q_ - b, "
   ]
  },
  {
   "cell_type": "code",
   "execution_count": 75,
   "metadata": {},
   "outputs": [
    {
     "data": {
      "text/plain": [
       "array([50., 60., 10., 20., 40., 20.,  4.,  7., 12., 40.])"
      ]
     },
     "execution_count": 75,
     "metadata": {},
     "output_type": "execute_result"
    }
   ],
   "source": [
    "q_"
   ]
  },
  {
   "cell_type": "raw",
   "metadata": {},
   "source": [
    "# 1)\n",
    "def solve(A, x, b, lr = 0.5, lim=10, verbose=False, cvx = False, polish = False, precision=0.00001, margin = 100):\n",
    "    q = x.copy()\n",
    "    epochs = 0 \n",
    "    i = 0\n",
    "    while np.any((A @ q) > b + margin) or np.any((A @ q) < (b*(1-precision))):\n",
    "        \n",
    "        a = A[i].toarray().ravel()\n",
    "        difs = b - A @ q\n",
    "        m = np.max(np.abs(difs))\n",
    "        \n",
    "        while True:\n",
    "            dif = b[i] - (q @ a)    \n",
    "            if (q @ a) <= b[i] and (q @ a) >= b[i]*(1-precision):\n",
    "                if verbose: print('Optimizada','dif:', i, (q @ a), b[i], dif)\n",
    "                break\n",
    "            print(sum(q[a]))\n",
    "            lr_ = (dif/m) * lr\n",
    "            print('Tweak.', lr_, dif, m)\n",
    "            q[a] *= lr_\n",
    "            \n",
    "        if i == A.shape[0] - 1:\n",
    "            i = 0\n",
    "        else:\n",
    "            i += 1\n",
    "            \n",
    "        print('Epoch,', epochs)\n",
    "        epochs += 1\n",
    "        \n",
    "        if (epochs == lim):\n",
    "            if not cvx:\n",
    "                print('Inaccurate.')\n",
    "                return q, False\n",
    "            print('Usando cvxpy.')\n",
    "            q, sol = solve_cvx(A, x, b, idx_ineqs, solver='OSQP')\n",
    "            if polish:\n",
    "                q = solve(A, q, b)\n",
    "                return q\n",
    "            \n",
    "    print('Todas satisfechas.')\n",
    "    return q, True"
   ]
  },
  {
   "cell_type": "code",
   "execution_count": 79,
   "metadata": {},
   "outputs": [],
   "source": [
    "# Tenemos distintas posibilidades:\n",
    "# 1) recorrer las restricciones en orden y llevar cada una a 0. Este proceso tiene dos partes: 1) forward, llevar el grupo a 0. 2) back, llevar el resto a la misma cantidad\n",
    "# 2) tomar la restriccion más insatisfecha, llevar esa a 0 y repetir\n",
    "# 3) usar el vector de diferencias para multiplicar cada subconjunto por un lr diferencial ponderado por la diferencia a esa restriccion"
   ]
  },
  {
   "cell_type": "code",
   "execution_count": null,
   "metadata": {},
   "outputs": [],
   "source": [
    "q = solve(A, q, b)"
   ]
  },
  {
   "cell_type": "code",
   "execution_count": 83,
   "metadata": {},
   "outputs": [
    {
     "ename": "ModuleNotFoundError",
     "evalue": "No module named 'variables'",
     "output_type": "error",
     "traceback": [
      "\u001b[1;31m---------------------------------------------------------------------------\u001b[0m",
      "\u001b[1;31mModuleNotFoundError\u001b[0m                       Traceback (most recent call last)",
      "\u001b[1;32m<ipython-input-83-f4c3acc16fbb>\u001b[0m in \u001b[0;36m<module>\u001b[1;34m\u001b[0m\n\u001b[0;32m      2\u001b[0m \u001b[1;32mimport\u001b[0m \u001b[0msqlalchemy\u001b[0m\u001b[1;33m\u001b[0m\u001b[1;33m\u001b[0m\u001b[0m\n\u001b[0;32m      3\u001b[0m \u001b[1;32mfrom\u001b[0m \u001b[0mtime\u001b[0m \u001b[1;32mimport\u001b[0m \u001b[0mstrftime\u001b[0m\u001b[1;33m\u001b[0m\u001b[1;33m\u001b[0m\u001b[0m\n\u001b[1;32m----> 4\u001b[1;33m \u001b[1;32mfrom\u001b[0m \u001b[0mvariables\u001b[0m \u001b[1;32mimport\u001b[0m \u001b[1;33m*\u001b[0m\u001b[1;33m\u001b[0m\u001b[1;33m\u001b[0m\u001b[0m\n\u001b[0m\u001b[0;32m      5\u001b[0m \u001b[1;32mfrom\u001b[0m \u001b[0mdata2sql\u001b[0m \u001b[1;32mimport\u001b[0m \u001b[1;33m*\u001b[0m\u001b[1;33m\u001b[0m\u001b[1;33m\u001b[0m\u001b[0m\n",
      "\u001b[1;31mModuleNotFoundError\u001b[0m: No module named 'variables'"
     ]
    }
   ],
   "source": [
    "import os; os.chdir('..')\n",
    "import sqlalchemy\n",
    "from time import strftime\n",
    "from variables import *\n",
    "from data2sql import *"
   ]
  },
  {
   "cell_type": "code",
   "execution_count": 2,
   "metadata": {},
   "outputs": [
    {
     "name": "stdout",
     "output_type": "stream",
     "text": [
      "Wall time: 0 ns\n"
     ]
    }
   ],
   "source": [
    "%%time\n",
    "#lst_to_sql(lst_path, lst_cols, tabla_hist, n=1, mode='replace')"
   ]
  },
  {
   "cell_type": "code",
   "execution_count": 11,
   "metadata": {},
   "outputs": [],
   "source": [
    "from sqlalchemy import inspect"
   ]
  },
  {
   "cell_type": "code",
   "execution_count": null,
   "metadata": {},
   "outputs": [],
   "source": [
    "for table_name in inspector.get_table_names():\n",
    "    print(table_name)"
   ]
  },
  {
   "cell_type": "code",
   "execution_count": 66,
   "metadata": {},
   "outputs": [
    {
     "name": "stdout",
     "output_type": "stream",
     "text": [
      "C:\\Users\\mgrinberg\\Desktop\\disc c\\SDPC\\SDPC\\SDPC\n"
     ]
    }
   ],
   "source": [
    "%cd .."
   ]
  },
  {
   "cell_type": "code",
   "execution_count": 84,
   "metadata": {},
   "outputs": [
    {
     "ename": "ModuleNotFoundError",
     "evalue": "No module named 'variables'",
     "output_type": "error",
     "traceback": [
      "\u001b[1;31m---------------------------------------------------------------------------\u001b[0m",
      "\u001b[1;31mModuleNotFoundError\u001b[0m                       Traceback (most recent call last)",
      "\u001b[1;32m<ipython-input-84-b4774e7608f8>\u001b[0m in \u001b[0;36m<module>\u001b[1;34m\u001b[0m\n\u001b[1;32m----> 1\u001b[1;33m \u001b[1;32mfrom\u001b[0m \u001b[0mvariables\u001b[0m \u001b[1;32mimport\u001b[0m \u001b[1;33m*\u001b[0m\u001b[1;33m\u001b[0m\u001b[1;33m\u001b[0m\u001b[0m\n\u001b[0m\u001b[0;32m      2\u001b[0m \u001b[1;32mfrom\u001b[0m \u001b[0mSDPC_utils\u001b[0m \u001b[1;32mimport\u001b[0m \u001b[1;33m*\u001b[0m\u001b[1;33m\u001b[0m\u001b[1;33m\u001b[0m\u001b[0m\n\u001b[0;32m      3\u001b[0m \u001b[1;32mfrom\u001b[0m \u001b[0mdata2sql\u001b[0m \u001b[1;32mimport\u001b[0m \u001b[1;33m*\u001b[0m\u001b[1;33m\u001b[0m\u001b[1;33m\u001b[0m\u001b[0m\n\u001b[0;32m      4\u001b[0m \u001b[1;33m\u001b[0m\u001b[0m\n\u001b[0;32m      5\u001b[0m \u001b[1;32mimport\u001b[0m \u001b[0mpickle\u001b[0m \u001b[1;32mas\u001b[0m \u001b[0mp\u001b[0m\u001b[1;33m\u001b[0m\u001b[1;33m\u001b[0m\u001b[0m\n",
      "\u001b[1;31mModuleNotFoundError\u001b[0m: No module named 'variables'"
     ]
    }
   ],
   "source": [
    "from variables import *\n",
    "from SDPC_utils import *\n",
    "from data2sql import *\n",
    "\n",
    "import pickle as p"
   ]
  },
  {
   "cell_type": "code",
   "execution_count": 85,
   "metadata": {},
   "outputs": [
    {
     "name": "stderr",
     "output_type": "stream",
     "text": [
      "\n",
      "KeyboardInterrupt\n",
      "\n"
     ]
    }
   ],
   "source": [
    "TMP_PATH = r'C:\\Users\\mgrinberg\\Desktop\\disc c\\SDPC\\SDPC\\tmp\\\\'\n",
    "from scipy import sparse\n",
    "import numpy as np\n",
    "import pandas as pd"
   ]
  },
  {
   "cell_type": "code",
   "execution_count": null,
   "metadata": {},
   "outputs": [],
   "source": [
    "A, x, b, idx_ineqs = [TMP_PATH + p for p in ['A.npz', 'x.gz', 'b.gz', 'idx_ineqs.gz']]\n",
    "A = sparse.load_npz(A).astype(bool)\n",
    "x = np.loadtxt(x).astype('float64')\n",
    "b = np.loadtxt(b).astype('int32')\n",
    "idx_ineqs = np.loadtxt(idx_ineqs).astype('int32')\n",
    "print('Datos cargados.')"
   ]
  },
  {
   "cell_type": "code",
   "execution_count": 89,
   "metadata": {},
   "outputs": [],
   "source": [
    "dif = ([1/10] + list(np.ones(b.shape[0] - 1)))\n",
    "\n",
    "b_ = b * dif"
   ]
  },
  {
   "cell_type": "code",
   "execution_count": 94,
   "metadata": {},
   "outputs": [
    {
     "name": "stdout",
     "output_type": "stream",
     "text": [
      "Guardando resultado en Q1.csv\n",
      "Volcando resultado en Análisis.\n",
      "Ingresando resultados en Restricciones.\n",
      "Errores en restricciones con indices [  3  14  22  36  54  55  64  72  80  93 104 105 117 131 138 140 158 166\n",
      " 167 172 176]\n"
     ]
    }
   ],
   "source": [
    "write_sol(x)\n",
    "validar()"
   ]
  },
  {
   "cell_type": "code",
   "execution_count": 87,
   "metadata": {},
   "outputs": [],
   "source": [
    "q = x\n",
    "lr = 0.01\n",
    "epochs = 10\n",
    "lim=10\n",
    "verbose=False\n",
    "cvx = False\n",
    "polish = False\n",
    "precision=0.01\n",
    "live = False"
   ]
  },
  {
   "cell_type": "code",
   "execution_count": 83,
   "metadata": {},
   "outputs": [
    {
     "name": "stdout",
     "output_type": "stream",
     "text": [
      "Todas las restricciones satisfechas.\n"
     ]
    }
   ],
   "source": [
    "b = b_\n",
    "i = 0\n",
    "rows = A.shape[0]\n",
    "idx_eqs = [i for i in range(rows) if i not in idx_ineqs]\n",
    "while True:\n",
    "    if np.all(abs(b[idx_eqs] - A[idx_eqs] @ x) < abs(b[idx_eqs])*precision) & np.all(A[idx_ineqs] @ x <= (b[idx_ineqs] * (1 + precision))):\n",
    "        print('Todas las restricciones satisfechas.')\n",
    "        break   \n",
    "    print('Epoch: ', j)\n",
    "    for i in range(rows):\n",
    "        a = A[i].toarray().ravel()\n",
    "        q[a] *= (b[i]/(q @ a))\n",
    "        print(i, b[i] - (q @ a))"
   ]
  },
  {
   "cell_type": "code",
   "execution_count": null,
   "metadata": {},
   "outputs": [],
   "source": []
  },
  {
   "cell_type": "code",
   "execution_count": null,
   "metadata": {},
   "outputs": [],
   "source": []
  },
  {
   "cell_type": "code",
   "execution_count": null,
   "metadata": {},
   "outputs": [],
   "source": []
  },
  {
   "cell_type": "code",
   "execution_count": null,
   "metadata": {},
   "outputs": [],
   "source": []
  }
 ],
 "metadata": {
  "kernelspec": {
   "display_name": "Python 3",
   "language": "python",
   "name": "python3"
  },
  "language_info": {
   "codemirror_mode": {
    "name": "ipython",
    "version": 3
   },
   "file_extension": ".py",
   "mimetype": "text/x-python",
   "name": "python",
   "nbconvert_exporter": "python",
   "pygments_lexer": "ipython3",
   "version": "3.7.3"
  }
 },
 "nbformat": 4,
 "nbformat_minor": 4
}
