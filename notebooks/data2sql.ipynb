{
 "cells": [
  {
   "cell_type": "code",
   "execution_count": 1,
   "metadata": {},
   "outputs": [
    {
     "name": "stdout",
     "output_type": "stream",
     "text": [
      "C:\\Users\\mgrinberg\\Desktop\\disc c\\SDPC\\SDPC\\SDPC\n"
     ]
    }
   ],
   "source": [
    "%cd .."
   ]
  },
  {
   "cell_type": "code",
   "execution_count": 2,
   "metadata": {},
   "outputs": [],
   "source": [
    "import sqlalchemy\n",
    "from time import strftime\n",
    "from variables import *"
   ]
  },
  {
   "cell_type": "code",
   "execution_count": 3,
   "metadata": {},
   "outputs": [],
   "source": [
    "def read_lst(lst_path, lst_cols):\n",
    "    \"\"\"Cargar el .lst a un DataFrame\"\"\"\n",
    "    return pd.read_fwf(lst_path, encoding='cp1252', widths= [len(x) for x in lst_cols.split('|')])"
   ]
  },
  {
   "cell_type": "code",
   "execution_count": 4,
   "metadata": {},
   "outputs": [],
   "source": [
    "def get_ge(x):\n",
    "    \"\"\"Mapear Grupos Economicos a un indice\"\"\"\n",
    "    for g in grupos:\n",
    "        if g in x:\n",
    "            return grupos.index(g)\n",
    "    else:\n",
    "        return -1"
   ]
  },
  {
   "cell_type": "code",
   "execution_count": 5,
   "metadata": {},
   "outputs": [],
   "source": [
    "def preprocesamiento(df):\n",
    "    \"\"\"Toma DataFrame y devuelve tensor Q\"\"\"\n",
    "    from variables import c_col, cl_col, p_col, z_col, s_col, fl_col, fle_col, cir_col, q_col, dev_col\n",
    "    \n",
    "    # Tranformo a numerico\n",
    "    df[[q_col, dev_col]] = df[[q_col, dev_col]].apply(lambda x: pd.to_numeric(x.astype(str).str.replace(',','.'), errors='coerce'))\n",
    "    df[[c_col, cl_col, p_col, z_col, s_col, fl_col, fle_col, cir_col]] = df[[c_col, cl_col, p_col, z_col, s_col, fl_col, fle_col, cir_col]].apply(pd.to_numeric, args=(dict(errors= 'coerce')))\n",
    "    \n",
    "    # Saco nulos y el ultimo que era '\\x00\\x00\\x00\\x00\\x00\\x00\\x00\\x00'\n",
    "    df = df[~df.isnull()]\n",
    "    df = df[:-1]\n",
    "    \n",
    "    df = df.rename(columns={'Regi¢n':'Region'})\n",
    "\n",
    "    # Calculo venta bruta \n",
    "    df[neto_col] = df[q_col] - df[dev_col]\n",
    "\n",
    "    # Se borran ventas netas negativas\n",
    "    df = df[df[neto_col] > 0]\n",
    "\n",
    "    return df"
   ]
  },
  {
   "cell_type": "code",
   "execution_count": 6,
   "metadata": {},
   "outputs": [],
   "source": [
    "def lst_to_sql(lst_path, lst_cols, table_name, n=0, mode='append'):\n",
    "    print('Leyendo lst.')\n",
    "    df = read_lst(lst_path, lst_cols)\n",
    "    print('Preprocesando lst.')\n",
    "    df = preprocesamiento(df)\n",
    "    df['Grupo Economico'] = df[nom_cli_col].map(get_ge)\n",
    "    df['Fecha Base'] = strftime(\"%Y-%m-%d\")\n",
    "    df['N Base'] = n\n",
    "    print('Subiendo lst a SQL.')\n",
    "    engine = sqlalchemy.create_engine(f\"mssql+pyodbc://{UID}:{PWD}@{SERVER}/{DATABASE}?driver=SQL+Server\")\n",
    "    df.to_sql(table_name, con=engine, if_exists='append')"
   ]
  }
 ],
 "metadata": {
  "kernelspec": {
   "display_name": "Python 3",
   "language": "python",
   "name": "python3"
  },
  "language_info": {
   "codemirror_mode": {
    "name": "ipython",
    "version": 3
   },
   "file_extension": ".py",
   "mimetype": "text/x-python",
   "name": "python",
   "nbconvert_exporter": "python",
   "pygments_lexer": "ipython3",
   "version": "3.7.3"
  }
 },
 "nbformat": 4,
 "nbformat_minor": 4
}
