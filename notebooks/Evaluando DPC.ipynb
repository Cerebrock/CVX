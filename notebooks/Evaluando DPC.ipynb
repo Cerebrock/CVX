{
 "cells": [
  {
   "cell_type": "code",
   "execution_count": 272,
   "metadata": {},
   "outputs": [],
   "source": [
    "import numpy as np\n",
    "from scipy import sparse\n",
    "import warnings\n",
    "from numpy import linalg\n",
    "warnings.filterwarnings(\"ignore\",category= DeprecationWarning)\n",
    "warnings.filterwarnings(\"ignore\",category= FutureWarning)"
   ]
  },
  {
   "cell_type": "code",
   "execution_count": 273,
   "metadata": {},
   "outputs": [],
   "source": [
    "def solve(A, q, b, \n",
    "          idx_ineqs = [],\n",
    "          verbose=True, \n",
    "          precision=10, \n",
    "          max_tries=3):\n",
    "    \n",
    "    c = 0\n",
    "    d_ = np.inf\n",
    "    while True:\n",
    "        p = (b / (A @ q))\n",
    "        idx_ineqs_ok = np.where(p[idx_ineqs] > 1 + 1e-10)\n",
    "        p[idx_ineqs_ok] = 1\n",
    "        d = np.linalg.norm((b - (A @ q))[[idx for idx in range(A.shape[0]) if idx not in idx_ineqs_ok]])\n",
    "        if verbose: print(f\"{d:.2f}\", end=' ')\n",
    "        if d >= d_ - 0.01:\n",
    "            c += 1\n",
    "        d_ = d\n",
    "        if (c == max_tries) | (d_ < precision):\n",
    "            break\n",
    "        A_= A.multiply(p[:, np.newaxis])\n",
    "        P = np.squeeze(np.array(np.true_divide(A_.sum(0), (A_!=0).sum(0))))\n",
    "        q = q * P\n",
    "        if np.isnan(d):\n",
    "            print('NaN error. Hay 0s en q, probable restricción inválida.')\n",
    "            break\n",
    "    return q"
   ]
  },
  {
   "cell_type": "code",
   "execution_count": 322,
   "metadata": {},
   "outputs": [],
   "source": [
    "def check_sol(A, q, b, q_0, show=True, th1=1, th2=0.3):\n",
    "    \"\"\"Muestra un resumen informativo del resultado\n",
    "    A: Matriz binaria de restricciones\n",
    "    q: vector a optimizar, en ppio es WarmStart\n",
    "    b: vector con los objetivos de las restricciones (incluye ineqs)\n",
    "    \"\"\"\n",
    "    \n",
    "    dif = (q - q_0) / q_0\n",
    "    \n",
    "    data = (np.linalg.norm(dif, ord=np.inf), \n",
    "            dif.max(), \n",
    "            dif.min(),\n",
    "            dif.mean(),   \n",
    "            np.sum(np.abs(dif) > th1),\n",
    "            np.sum(np.abs(dif) > th2),\n",
    "            np.sum(q < 0),\n",
    "            np.linalg.norm(A @ q - b))\n",
    "    \n",
    "    names = f'Norm dif, Max, Min, Media, Mayores a {th1:.2f}' \\\n",
    "            f', Mayores a {th2:.2f}, Negativos, Norm Aq-b'.split(', ')\n",
    "    \n",
    "    data = {k:v for k,v in zip(names, data)}\n",
    "    \n",
    "    if show:\n",
    "        sns.distplot(dif, kde=False, norm_hist=True)\n",
    "        plt.xlim(data['Min'] - 0.1, data['Max'] + 0.1)  \n",
    "        print(*[str(t[0]) + ' ' + re.search(r\"[\\d\\-]+\\.*0*[.1-9]{0,2}\", \n",
    "                str(t[1])).group(0) for t in data.items()], sep = '\\n')\n",
    "\n",
    "    return data"
   ]
  },
  {
   "cell_type": "code",
   "execution_count": 274,
   "metadata": {},
   "outputs": [],
   "source": [
    "A = sparse.csc_matrix([\n",
    "              [1, 1, 0, 0, 0, 0, 0, 0, 0, 0], \n",
    "              [1, 0, 1, 0, 1, 0, 1, 0, 1, 0],\n",
    "              [0, 1, 0, 1, 0, 1, 0, 1, 0, 1]]).astype('int8')\n",
    "\n",
    "q = np.array([10, 20, 40, 50, 10, 0, 20, 20, 60, 20])\n",
    "b = np.array([0.3*300, 100, 200])"
   ]
  },
  {
   "cell_type": "code",
   "execution_count": 275,
   "metadata": {},
   "outputs": [
    {
     "name": "stdout",
     "output_type": "stream",
     "text": [
      "115.33 28.47 17.49 10.98 6.97 "
     ]
    },
    {
     "data": {
      "text/plain": [
       "(array([1.065, 0.986, 0.980]), array([3.000, 0.714, 1.818]))"
      ]
     },
     "execution_count": 275,
     "metadata": {},
     "output_type": "execute_result"
    }
   ],
   "source": [
    "q_1 = solve(A,q,b)\n",
    "b / (A @ q_1), b / (A @ q)"
   ]
  },
  {
   "cell_type": "markdown",
   "metadata": {},
   "source": [
    "# Aleatorio"
   ]
  },
  {
   "cell_type": "code",
   "execution_count": 369,
   "metadata": {},
   "outputs": [],
   "source": [
    "max_q = 100\n",
    "max_b = 10000\n",
    "n, m = 100, 1000\n",
    "\n",
    "A = sparse.csc_matrix(np.random.choice([0, 1], size=(n, m)))\n",
    "q = np.random.randint(1, max_q, size=m)\n",
    "b = np.random.randint(1, max_b, size=n)"
   ]
  },
  {
   "cell_type": "code",
   "execution_count": 370,
   "metadata": {},
   "outputs": [],
   "source": [
    "from numpy import linalg\n",
    "sol_lstsq, res, rank, s = linalg.lstsq(A.toarray(), b)"
   ]
  },
  {
   "cell_type": "code",
   "execution_count": 371,
   "metadata": {},
   "outputs": [],
   "source": [
    "import scipy.optimize\n",
    "sol_ = scipy.optimize.minimize(lambda x: np.linalg.norm(A @ x - b, ord=np.inf), q, bounds = [(0, None) for i in range(m)])\n",
    "sol_sci = sol_['x']"
   ]
  },
  {
   "cell_type": "code",
   "execution_count": 372,
   "metadata": {},
   "outputs": [],
   "source": [
    "sol_ = solve(A,q,b, precision=0, max_tries=100, verbose=False)"
   ]
  },
  {
   "cell_type": "code",
   "execution_count": 375,
   "metadata": {},
   "outputs": [
    {
     "name": "stdout",
     "output_type": "stream",
     "text": [
      "{'Norm dif': 71.23347230891879, 'Max': 71.23347230891879, 'Min': -1.0, 'Media': -0.6914103303318957, 'Mayores a 1.00': 21, 'Mayores a 0.30': 994, 'Negativos': 0, 'Norm Aq-b': 20096.939898644312}\n",
      "[0.000 0.000 0.000 0.339 0.000 0.000 0.000 0.000 0.000 0.000 0.000 0.000\n",
      " 0.000 0.000 0.000 0.000 0.000 0.000 0.000 0.000 0.000 0.000 0.000 107.714\n",
      " 1146.102 0.000 0.000 0.000 0.000 0.000 0.000 0.000 0.000 0.000 0.000\n",
      " 0.000 0.000 0.000 0.000 0.000 0.000 0.000 0.000 0.000 0.000 0.000 0.000\n",
      " 0.000 0.000 45.432 0.000 0.000 0.000 0.000 0.000 0.000 0.000 0.000 0.000\n",
      " 0.000 0.000 0.000 209.300 0.000 0.000 0.000 0.000 0.000 0.000 0.000 0.000\n",
      " 0.000 0.000 0.000 0.000 0.000 0.000 0.000 0.000 0.000 227.025 0.000 0.000\n",
      " 0.000 0.000 0.000 0.000 0.000 0.000 0.000 0.000 0.000 0.000 0.000 0.000\n",
      " 0.000 0.000 2.256 0.000 0.000]\n",
      "\n",
      "\n",
      "{'Norm dif': 1.0, 'Max': 0.0, 'Min': -1.0, 'Media': -0.8168338384052342, 'Mayores a 1.00': 0, 'Mayores a 0.30': 837, 'Negativos': 0, 'Norm Aq-b': 30046.08093784216}\n",
      "[0.000 0.000 0.000 6.744 0.000 0.000 0.000 0.000 0.000 0.000 0.000 58.147\n",
      " 56.800 0.000 0.000 36.388 0.000 0.000 0.000 0.000 0.000 55.347 1.174\n",
      " 12.388 43.188 0.000 0.000 0.000 0.000 0.000 0.000 0.000 0.000 9.759\n",
      " 47.188 0.000 0.000 0.000 16.347 0.000 0.000 0.000 63.388 13.188 0.000\n",
      " 21.800 0.000 0.000 0.000 49.959 0.000 0.000 0.000 0.000 0.000 0.000 0.000\n",
      " 0.000 0.000 71.388 0.000 0.000 47.388 19.974 0.000 0.000 0.000 0.000\n",
      " 0.000 0.000 28.759 0.000 0.000 0.000 0.000 18.347 0.000 0.000 59.959\n",
      " 1.500 76.959 0.000 0.000 0.000 0.000 0.000 0.000 7.586 0.000 0.000 0.000\n",
      " 0.000 0.000 0.000 0.000 0.000 0.000 0.000 0.000 0.000]\n",
      "\n",
      "\n",
      "{'Norm dif': 98.19484039166363, 'Max': 88.85140291178058, 'Min': -98.19484039166363, 'Media': -0.7844726661796667, 'Mayores a 1.00': 578, 'Mayores a 0.30': 870, 'Negativos': 439, 'Norm Aq-b': 1.4346513813886568e-10}\n",
      "[-9.048 35.846 92.673 137.723 76.895 31.935 13.441 101.556 46.418 87.538\n",
      " -20.188 -76.804 81.149 34.883 2.091 -16.561 -31.688 -0.337 -6.974 -49.514\n",
      " 67.402 51.517 -85.346 74.290 230.713 -157.164 -73.300 -75.588 -71.227\n",
      " 34.761 105.171 8.382 -12.611 -20.230 17.781 -61.209 -71.278 65.534 0.877\n",
      " -55.061 81.609 27.954 71.675 -64.923 65.018 79.729 -36.193 12.551\n",
      " -110.898 107.296 91.475 -75.915 44.885 128.862 9.597 1.289 -90.276 34.718\n",
      " 23.007 123.146 -0.334 23.234 134.720 51.188 49.742 24.978 -9.145 43.749\n",
      " -0.728 46.404 -49.158 95.994 -113.727 5.602 17.406 12.328 31.239 8.562\n",
      " 102.846 9.333 160.622 -5.455 -104.402 -16.150 57.871 59.765 -11.818\n",
      " 17.575 51.709 -12.647 64.904 -6.292 6.247 -75.534 -3.732 -67.246 -93.522\n",
      " 94.251 58.967 0.526]\n",
      "\n",
      "\n"
     ]
    }
   ],
   "source": [
    "for s in [sol_, sol_sci, sol_lstsq]:\n",
    "    data = check_sol(A=A, q=s, b=b, q_0=q, show=False)\n",
    "    print(data)\n",
    "    print(s[:100])\n",
    "    print('\\n')"
   ]
  },
  {
   "cell_type": "code",
   "execution_count": 43,
   "metadata": {},
   "outputs": [],
   "source": []
  },
  {
   "cell_type": "code",
   "execution_count": 269,
   "metadata": {},
   "outputs": [],
   "source": [
    "A = sparse.csc_matrix([\n",
    "              [1, 1, 0], \n",
    "              [1, 0, 1],\n",
    "              [0, 1, 1]]).astype('int8')\n",
    "\n",
    "b = np.array([4, 2, 10])\n",
    "q = linalg.inv(A.toarray()) @ np.array([2,1,5])"
   ]
  },
  {
   "cell_type": "code",
   "execution_count": 270,
   "metadata": {},
   "outputs": [
    {
     "name": "stdout",
     "output_type": "stream",
     "text": [
      "5.48 "
     ]
    },
    {
     "data": {
      "text/plain": [
       "(array([2.000, 2.000, 2.000]), array([2.000, 2.000, 2.000]))"
      ]
     },
     "execution_count": 270,
     "metadata": {},
     "output_type": "execute_result"
    }
   ],
   "source": [
    "q_1 = solve(A,q,b)\n",
    "b / (A @ q_1), b / (A @ q)"
   ]
  },
  {
   "cell_type": "code",
   "execution_count": null,
   "metadata": {},
   "outputs": [],
   "source": []
  },
  {
   "cell_type": "code",
   "execution_count": null,
   "metadata": {},
   "outputs": [],
   "source": []
  },
  {
   "cell_type": "code",
   "execution_count": null,
   "metadata": {},
   "outputs": [],
   "source": []
  },
  {
   "cell_type": "code",
   "execution_count": null,
   "metadata": {},
   "outputs": [],
   "source": []
  },
  {
   "cell_type": "code",
   "execution_count": 3,
   "metadata": {},
   "outputs": [],
   "source": [
    "R = np.array([[1,0,1],[1,0,0],[0,1,1]])\n",
    "e = np.array([0.9, 0.5, 1.5])"
   ]
  },
  {
   "cell_type": "code",
   "execution_count": 4,
   "metadata": {},
   "outputs": [
    {
     "data": {
      "text/plain": [
       "array([2, 1, 2])"
      ]
     },
     "execution_count": 4,
     "metadata": {},
     "output_type": "execute_result"
    }
   ],
   "source": [
    "#np.mean(R, axis=1)\n",
    "(R @ [1,1,1])"
   ]
  },
  {
   "cell_type": "code",
   "execution_count": 5,
   "metadata": {},
   "outputs": [],
   "source": [
    "import scipy.linalg as linalg"
   ]
  },
  {
   "cell_type": "code",
   "execution_count": 6,
   "metadata": {},
   "outputs": [],
   "source": [
    "sol, res, rank, s = linalg.lstsq(R, b)"
   ]
  },
  {
   "cell_type": "code",
   "execution_count": 7,
   "metadata": {},
   "outputs": [],
   "source": [
    "o = q - sol"
   ]
  },
  {
   "cell_type": "code",
   "execution_count": 8,
   "metadata": {},
   "outputs": [],
   "source": [
    "A = linalg.null_space(R)"
   ]
  },
  {
   "cell_type": "code",
   "execution_count": 9,
   "metadata": {},
   "outputs": [],
   "source": [
    "p =  A @ (A.T @ o) "
   ]
  },
  {
   "cell_type": "code",
   "execution_count": 10,
   "metadata": {},
   "outputs": [
    {
     "data": {
      "text/plain": [
       "array([100., 210., -10.])"
      ]
     },
     "execution_count": 10,
     "metadata": {},
     "output_type": "execute_result"
    }
   ],
   "source": [
    "sol + p"
   ]
  },
  {
   "cell_type": "code",
   "execution_count": null,
   "metadata": {},
   "outputs": [],
   "source": []
  },
  {
   "cell_type": "code",
   "execution_count": null,
   "metadata": {},
   "outputs": [],
   "source": []
  },
  {
   "cell_type": "code",
   "execution_count": null,
   "metadata": {},
   "outputs": [],
   "source": []
  },
  {
   "cell_type": "code",
   "execution_count": null,
   "metadata": {},
   "outputs": [],
   "source": []
  },
  {
   "cell_type": "code",
   "execution_count": null,
   "metadata": {},
   "outputs": [],
   "source": []
  },
  {
   "cell_type": "code",
   "execution_count": null,
   "metadata": {},
   "outputs": [],
   "source": []
  },
  {
   "cell_type": "code",
   "execution_count": 3,
   "metadata": {},
   "outputs": [],
   "source": [
    "#A @ q"
   ]
  },
  {
   "cell_type": "code",
   "execution_count": 4,
   "metadata": {},
   "outputs": [],
   "source": [
    "# Ejemplo: tenemos 5 clientes con 2 productos cada uno\n",
    "# Las restricciones serán: el cliente 1 no puede tener mas del 30% del total \n",
    "# el presupuestp del producto 1 es 100\n",
    "# el presupuesto del producto 2 es 200\n",
    "\n",
    "# Tenemos entonces un vector binario de largo q = clientes * productos\n",
    "# Cada fila representa: (cl1) p1 p2 (cl2) p1 p2 (cl3) p11 pl2 (cl4) p1 p2 (cl5) p1 p2"
   ]
  },
  {
   "cell_type": "code",
   "execution_count": 5,
   "metadata": {},
   "outputs": [],
   "source": [
    "q_ = q.copy()"
   ]
  },
  {
   "cell_type": "code",
   "execution_count": 6,
   "metadata": {},
   "outputs": [
    {
     "data": {
      "text/plain": [
       "(array([110., 110., 170.]), array([ 20.,  10., -30.]))"
      ]
     },
     "execution_count": 6,
     "metadata": {},
     "output_type": "execute_result"
    }
   ],
   "source": [
    "# resultado anterior, diferencia\n",
    "A @ q_, A @ q_ - b, "
   ]
  },
  {
   "cell_type": "code",
   "execution_count": 7,
   "metadata": {},
   "outputs": [],
   "source": []
  },
  {
   "cell_type": "code",
   "execution_count": 8,
   "metadata": {},
   "outputs": [],
   "source": [
    "# Tenemos distintas posibilidades:\n",
    "# 1) recorrer las restricciones en orden y llevar cada una a 0. Este proceso tiene dos partes: 1) forward, llevar el grupo a 0. 2) back, llevar el resto a la misma cantidad\n",
    "# 2) tomar la restriccion más insatisfecha, llevar esa a 0 y repetir\n",
    "# 3) usar el vector de diferencias para multiplicar cada subconjunto por un lr diferencial ponderado por la diferencia a esa restriccion"
   ]
  },
  {
   "cell_type": "code",
   "execution_count": 11,
   "metadata": {},
   "outputs": [],
   "source": [
    "from sqlalchemy import inspect"
   ]
  },
  {
   "cell_type": "code",
   "execution_count": null,
   "metadata": {},
   "outputs": [],
   "source": [
    "for table_name in inspector.get_table_names():\n",
    "    print(table_name)"
   ]
  },
  {
   "cell_type": "code",
   "execution_count": 71,
   "metadata": {},
   "outputs": [],
   "source": [
    "TMP_PATH = r'C:\\Users\\mgrinberg\\Desktop\\disc c\\SDPC\\SDPC\\tmp\\\\'\n",
    "from scipy import sparse\n",
    "import numpy as np\n",
    "import pandas as pd"
   ]
  },
  {
   "cell_type": "code",
   "execution_count": 93,
   "metadata": {},
   "outputs": [
    {
     "name": "stdout",
     "output_type": "stream",
     "text": [
      "Datos cargados.\n"
     ]
    }
   ],
   "source": [
    "A, x, b, idx_ineqs = [TMP_PATH + p for p in ['A.npz', 'x.gz', 'b.gz', 'idx_ineqs.gz']]\n",
    "A = sparse.load_npz(A).astype(bool)\n",
    "x = np.loadtxt(x).astype('float64')\n",
    "b = np.loadtxt(b).astype('int32')\n",
    "idx_ineqs = np.loadtxt(idx_ineqs).astype('int32')\n",
    "print('Datos cargados.')"
   ]
  },
  {
   "cell_type": "code",
   "execution_count": 89,
   "metadata": {},
   "outputs": [],
   "source": [
    "dif = ([1/10] + list(np.ones(b.shape[0] - 1)))\n",
    "\n",
    "b_ = b * dif"
   ]
  },
  {
   "cell_type": "code",
   "execution_count": 94,
   "metadata": {},
   "outputs": [
    {
     "name": "stdout",
     "output_type": "stream",
     "text": [
      "Guardando resultado en Q1.csv\n",
      "Volcando resultado en Análisis.\n",
      "Ingresando resultados en Restricciones.\n",
      "Errores en restricciones con indices [  3  14  22  36  54  55  64  72  80  93 104 105 117 131 138 140 158 166\n",
      " 167 172 176]\n"
     ]
    }
   ],
   "source": [
    "write_sol(x)\n",
    "validar()"
   ]
  },
  {
   "cell_type": "code",
   "execution_count": 87,
   "metadata": {},
   "outputs": [],
   "source": [
    "q = x\n",
    "lr = 0.01\n",
    "epochs = 10\n",
    "lim=10\n",
    "verbose=False\n",
    "cvx = False\n",
    "polish = False\n",
    "precision=0.01\n",
    "live = False"
   ]
  },
  {
   "cell_type": "code",
   "execution_count": 83,
   "metadata": {},
   "outputs": [
    {
     "name": "stdout",
     "output_type": "stream",
     "text": [
      "Todas las restricciones satisfechas.\n"
     ]
    }
   ],
   "source": [
    "b = b_\n",
    "i = 0\n",
    "rows = A.shape[0]\n",
    "idx_eqs = [i for i in range(rows) if i not in idx_ineqs]\n",
    "while True:\n",
    "    if np.all(abs(b[idx_eqs] - A[idx_eqs] @ x) < abs(b[idx_eqs])*precision) & np.all(A[idx_ineqs] @ x <= (b[idx_ineqs] * (1 + precision))):\n",
    "        print('Todas las restricciones satisfechas.')\n",
    "        break   \n",
    "    print('Epoch: ', j)\n",
    "    for i in range(rows):\n",
    "        a = A[i].toarray().ravel()\n",
    "        q[a] *= (b[i]/(q @ a))\n",
    "        print(i, b[i] - (q @ a))"
   ]
  },
  {
   "cell_type": "code",
   "execution_count": 3,
   "metadata": {},
   "outputs": [],
   "source": [
    "def solve_cvx(A, x, b, idx_ineqs, solver = 'SUPERSCS', max_iters=100, eps = 1e-09, scale=1):\n",
    "    n = x.shape[0]\n",
    "    q1 = cp.Variable(n, nonneg=True)\n",
    "    #warm start \n",
    "    q1.value = x\n",
    "\n",
    "    constrains=[]\n",
    "    for i in range(A.shape[0]):\n",
    "        if i in idx_ineqs:\n",
    "            constrain = cp.sum(q1[A[i].toarray().ravel()]) <= int(b[i])\n",
    "        else:\n",
    "            constrain = cp.sum(q1[A[i].toarray().ravel()]) == int(b[i])        \n",
    "        constrains.append(constrain)\n",
    "    \n",
    "    print('Constrains loaded.')\n",
    "    \n",
    "    obj = cp.Minimize(cp.norm(q1-x, p=1))\n",
    "    #obj = cp.Minimize(cp.norm(cp.kl_div(x, q1)))# - cp.sum(q1)))\n",
    "    prob = cp.Problem(obj, constrains)\n",
    "    print(\"Problem made.\")\n",
    "\n",
    "    # liberar memoria\n",
    "    del A, x, b\n",
    "\n",
    "    if solver == 'OSQP':\n",
    "        sol = prob.solve(solver, warm_start = True, verbose = True, max_iter=max_iters, linsys_solver='mkl pardiso')\n",
    "    elif 'SCS' in solver:\n",
    "        sol = prob.solve(solver, warm_start = True, verbose = True, max_iters=max_iters, eps=eps, scale=scale)\n",
    "    print(\"Problem solved.\")\n",
    "\n",
    "    return q1.value, sol"
   ]
  }
 ],
 "metadata": {
  "kernelspec": {
   "display_name": "Python 3",
   "language": "python",
   "name": "python3"
  },
  "language_info": {
   "codemirror_mode": {
    "name": "ipython",
    "version": 3
   },
   "file_extension": ".py",
   "mimetype": "text/x-python",
   "name": "python",
   "nbconvert_exporter": "python",
   "pygments_lexer": "ipython3",
   "version": "3.7.3"
  }
 },
 "nbformat": 4,
 "nbformat_minor": 4
}
